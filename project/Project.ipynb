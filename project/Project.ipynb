{
 "cells": [
  {
   "cell_type": "markdown",
   "metadata": {},
   "source": [
    "Housing data\n",
    "\n",
    "https://github.com/aepyornis/nyc-db\n",
    "\n",
    "https://sql.nycdb.info/\n"
   ]
  },
  {
   "cell_type": "code",
   "execution_count": null,
   "metadata": {},
   "outputs": [],
   "source": []
  },
  {
   "cell_type": "code",
   "execution_count": null,
   "metadata": {},
   "outputs": [],
   "source": []
  },
  {
   "cell_type": "code",
   "execution_count": null,
   "metadata": {},
   "outputs": [],
   "source": []
  },
  {
   "cell_type": "markdown",
   "metadata": {},
   "source": [
    "Datasests contained in nyc-db:\n",
    "\n",
    "* Department of City Planning's Pluto: versions 16v2 and 17v1\n",
    "\n",
    "* DOB Job Filings\n",
    "\n",
    "* DOB Complaints\n",
    "\n",
    "* HPD Violations\n",
    "\n",
    "* HPD Registrations\n",
    "\n",
    "* HPD Complaints\n",
    "\n",
    "* Department of Finance Rolling Sales\n",
    "\n",
    "* Tax bills - Rent Stabilization Unit Counts (John Krauss's data)\n",
    "\n",
    "* ACRIS"
   ]
  },
  {
   "cell_type": "code",
   "execution_count": null,
   "metadata": {},
   "outputs": [],
   "source": []
  },
  {
   "cell_type": "code",
   "execution_count": null,
   "metadata": {},
   "outputs": [],
   "source": []
  },
  {
   "cell_type": "code",
   "execution_count": null,
   "metadata": {},
   "outputs": [],
   "source": []
  },
  {
   "cell_type": "markdown",
   "metadata": {},
   "source": [
    "First, I have started extracting the violations in the buildings.\n",
    "\n",
    "Here it is the SQL code written for a first review:\n",
    "\n",
    "```sql\n",
    "SELECT\n",
    "  housenumber,\n",
    "  streetname,\n",
    "  apartment,\n",
    "  bbl,\n",
    "  longitude,\n",
    "  latitude,\n",
    "  novissueddate,\n",
    "  novdescription,\n",
    "  violationid,\n",
    "  violationstatus\n",
    "FROM hpd_violations\n",
    "```\n"
   ]
  },
  {
   "cell_type": "code",
   "execution_count": null,
   "metadata": {},
   "outputs": [],
   "source": []
  },
  {
   "cell_type": "code",
   "execution_count": null,
   "metadata": {},
   "outputs": [],
   "source": []
  },
  {
   "cell_type": "code",
   "execution_count": null,
   "metadata": {},
   "outputs": [],
   "source": []
  },
  {
   "cell_type": "code",
   "execution_count": null,
   "metadata": {},
   "outputs": [],
   "source": []
  },
  {
   "cell_type": "code",
   "execution_count": null,
   "metadata": {},
   "outputs": [],
   "source": []
  }
 ],
 "metadata": {
  "kernelspec": {
   "display_name": "Python 3",
   "language": "python",
   "name": "python3"
  },
  "language_info": {
   "codemirror_mode": {
    "name": "ipython",
    "version": 3
   },
   "file_extension": ".py",
   "mimetype": "text/x-python",
   "name": "python",
   "nbconvert_exporter": "python",
   "pygments_lexer": "ipython3",
   "version": "3.6.5"
  }
 },
 "nbformat": 4,
 "nbformat_minor": 2
}
