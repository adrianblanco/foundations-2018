{
 "cells": [
  {
   "cell_type": "markdown",
   "metadata": {},
   "source": [
    "Housing data\n",
    "\n",
    "https://github.com/aepyornis/nyc-db\n",
    "\n",
    "https://sql.nycdb.info/\n"
   ]
  },
  {
   "cell_type": "markdown",
   "metadata": {},
   "source": [
    "These are some ideas I am working on.\n",
    "\n",
    "**NOTE: The research took me longer than expected. I am still doing some so I will update the tables and the contents in this notebook during the weekend.**"
   ]
  },
  {
   "cell_type": "markdown",
   "metadata": {},
   "source": [
    "\n",
    "\n",
    "**First approach**: The buildings where you would not like to live\n",
    "\n",
    "Violations data:\n",
    "\n",
    "    HPD Violations dataset\n",
    "    * Buildings with more HPD Violations since 2013\n",
    "    \n",
    "\n",
    "Possible outcomes:\n",
    "\n",
    "    * Frame by borough?\n",
    "    * JOIN with [dataset] to know who is the landlord\n",
    "    * Is there any real state firm supporting any of the Governonr\n",
    "    \n",
    "**Second approach**: Why real state firms are so interested in Andrew Como reelection for governor of New York?\n",
    "\n",
    "\"Andrew Cuomo raised $6 million for his 2018 election campaign in the last six months, and at least $1.24 million of that came from New York City area real estate interests, a review of state elections records shows\"\n",
    "https://therealdeal.com/issues_articles/the-nightmare-candidate-for-new-york-real-estate/\n",
    "https://therealdeal.com/2018/01/17/real-estate-throws-tons-of-cash-at-the-cuomo-campaign-again/\n",
    "\n",
    "Find which companies are funding Cuomo's campaign and see how many buildings own in NYC. Also, keep record of their violations, etc. to give context.\n",
    "\n",
    "Ownership data:\n",
    "\n",
    "    PLUTO\n",
    "       * OWNERSHIP, OWNER NAME (OwnerName)\n",
    "       Ref: \n",
    "       https://www1.nyc.gov/assets/hpd/downloads/pdf/about/hpd-violation-open-data-2017.pdf\n",
    "       https://www1.nyc.gov/assets/planning/download/pdf/data-maps/open-data/pluto_datadictionary.pdf?v=17v1_1\n",
    "       \n",
    "    HPD REGISTRATIONS ???\n",
    "       * Owners of buildings with 3+ units are required to register every year with HPD. When buildings change hands, the new owners must update their registration - otherwise they must update it once per year.\n",
    "       \n",
    "    ACRIS\n",
    "       * Detailed records about ownership and transfers of ownership\n",
    "       \n",
    "    Check also:\n",
    "    hpd_business_addresses\n",
    "    hpd_corporate_owners tables\n",
    "   \n",
    "Violations data:\n",
    "\n",
    "    HPD Violations dataset\n",
    "    \n",
    "Donors data:\n",
    "\n",
    "    Cuomo\n",
    "    https://www.followthemoney.org/entity-details?eid=6466806\n",
    "    Reference (Politico): https://www.politico.com/states/new-york/albany/story/2017/07/24/the-18-donors-who-have-given-cuomo-more-than-100k-113571\n",
    "   \n",
    "Check if the situation is the same for local politics in districts and neighborhoods."
   ]
  },
  {
   "cell_type": "code",
   "execution_count": null,
   "metadata": {},
   "outputs": [],
   "source": []
  },
  {
   "cell_type": "markdown",
   "metadata": {},
   "source": [
    "Datasests contained in nyc-db:\n",
    "\n",
    "* Department of City Planning's Pluto: versions 16v2 and 17v1\n",
    "\n",
    "* DOB Job Filings\n",
    "\n",
    "* DOB Complaints\n",
    "\n",
    "* HPD Violations\n",
    "\n",
    "* HPD Registrations\n",
    "\n",
    "* HPD Complaints\n",
    "\n",
    "* Department of Finance Rolling Sales\n",
    "\n",
    "* Tax bills - Rent Stabilization Unit Counts (John Krauss's data)\n",
    "\n",
    "* ACRIS"
   ]
  },
  {
   "cell_type": "markdown",
   "metadata": {},
   "source": [
    "# SQL"
   ]
  },
  {
   "cell_type": "markdown",
   "metadata": {},
   "source": [
    "### Approach 1\n",
    "\n",
    "First, I have started extracting the violations in the buildings.\n",
    "\n",
    "Here it is the SQL code written for a first review:\n",
    "\n",
    "```sql\n",
    "SELECT\n",
    "  housenumber,\n",
    "  streetname,\n",
    "  apartment,\n",
    "  bbl,\n",
    "  longitude,\n",
    "  latitude,\n",
    "  novissueddate,\n",
    "  novdescription,\n",
    "  violationid,\n",
    "  violationstatus\n",
    "FROM hpd_violations\n",
    "```\n"
   ]
  },
  {
   "cell_type": "markdown",
   "metadata": {},
   "source": [
    "To frame the search by zip code once I have a more specific approach, a sample query for pluto db:\n",
    "    \n",
    "```sql\n",
    "SELECT complaintcategory, status, complaintnumber, inspectiondate, housenumber, housestreet\n",
    "FROM dob_complaints\n",
    "WHERE bin in (SELECT bin FROM pluto_17v1 WHERE zipcode = '10029' OR zipcode = '10035')\n",
    "```\n"
   ]
  },
  {
   "cell_type": "markdown",
   "metadata": {},
   "source": [
    "Pending: Create a JOIN query to obtain the ownership of the building"
   ]
  },
  {
   "cell_type": "markdown",
   "metadata": {},
   "source": [
    "# Pandas"
   ]
  },
  {
   "cell_type": "markdown",
   "metadata": {},
   "source": [
    "Playing with violations in pandas after downloading HPD Violations dataset"
   ]
  },
  {
   "cell_type": "code",
   "execution_count": 2,
   "metadata": {},
   "outputs": [],
   "source": [
    "import pandas as pd"
   ]
  },
  {
   "cell_type": "code",
   "execution_count": 3,
   "metadata": {},
   "outputs": [
    {
     "name": "stderr",
     "output_type": "stream",
     "text": [
      "/Users/abr/.pyenv/versions/3.6.5/lib/python3.6/site-packages/IPython/core/interactiveshell.py:2785: DtypeWarning: Columns (23) have mixed types. Specify dtype option on import or set low_memory=False.\n",
      "  interactivity=interactivity, compiler=compiler, result=result)\n"
     ]
    }
   ],
   "source": [
    "df = pd.read_csv('violations.csv')"
   ]
  },
  {
   "cell_type": "code",
   "execution_count": 5,
   "metadata": {},
   "outputs": [
    {
     "data": {
      "text/html": [
       "<div>\n",
       "<style scoped>\n",
       "    .dataframe tbody tr th:only-of-type {\n",
       "        vertical-align: middle;\n",
       "    }\n",
       "\n",
       "    .dataframe tbody tr th {\n",
       "        vertical-align: top;\n",
       "    }\n",
       "\n",
       "    .dataframe thead th {\n",
       "        text-align: right;\n",
       "    }\n",
       "</style>\n",
       "<table border=\"1\" class=\"dataframe\">\n",
       "  <thead>\n",
       "    <tr style=\"text-align: right;\">\n",
       "      <th></th>\n",
       "      <th>ViolationID</th>\n",
       "      <th>BuildingID</th>\n",
       "      <th>RegistrationID</th>\n",
       "      <th>BoroID</th>\n",
       "      <th>Borough</th>\n",
       "      <th>HouseNumber</th>\n",
       "      <th>LowHouseNumber</th>\n",
       "      <th>HighHouseNumber</th>\n",
       "      <th>StreetName</th>\n",
       "      <th>StreetCode</th>\n",
       "      <th>...</th>\n",
       "      <th>NovType</th>\n",
       "      <th>ViolationStatus</th>\n",
       "      <th>Latitude</th>\n",
       "      <th>Longitude</th>\n",
       "      <th>CommunityBoard</th>\n",
       "      <th>CouncilDistrict</th>\n",
       "      <th>CensusTract</th>\n",
       "      <th>BIN</th>\n",
       "      <th>BBL</th>\n",
       "      <th>NTA</th>\n",
       "    </tr>\n",
       "  </thead>\n",
       "  <tbody>\n",
       "    <tr>\n",
       "      <th>0</th>\n",
       "      <td>10000009</td>\n",
       "      <td>265980</td>\n",
       "      <td>301467</td>\n",
       "      <td>3</td>\n",
       "      <td>BROOKLYN</td>\n",
       "      <td>355</td>\n",
       "      <td>355</td>\n",
       "      <td>355</td>\n",
       "      <td>EAST 48 STREET</td>\n",
       "      <td>36930</td>\n",
       "      <td>...</td>\n",
       "      <td>Original</td>\n",
       "      <td>Close</td>\n",
       "      <td>40.653217</td>\n",
       "      <td>-73.932480</td>\n",
       "      <td>17.0</td>\n",
       "      <td>41.0</td>\n",
       "      <td>870.0</td>\n",
       "      <td>3102071.0</td>\n",
       "      <td>3.046740e+09</td>\n",
       "      <td>East Flatbush-Farragut</td>\n",
       "    </tr>\n",
       "    <tr>\n",
       "      <th>1</th>\n",
       "      <td>10000011</td>\n",
       "      <td>73852</td>\n",
       "      <td>226626</td>\n",
       "      <td>2</td>\n",
       "      <td>BRONX</td>\n",
       "      <td>1123</td>\n",
       "      <td>1123</td>\n",
       "      <td>1123</td>\n",
       "      <td>EAST TREMONT AVENUE</td>\n",
       "      <td>29620</td>\n",
       "      <td>...</td>\n",
       "      <td>Original</td>\n",
       "      <td>Close</td>\n",
       "      <td>40.839954</td>\n",
       "      <td>-73.876599</td>\n",
       "      <td>6.0</td>\n",
       "      <td>15.0</td>\n",
       "      <td>220.0</td>\n",
       "      <td>2042428.0</td>\n",
       "      <td>2.040040e+09</td>\n",
       "      <td>East Tremont</td>\n",
       "    </tr>\n",
       "    <tr>\n",
       "      <th>2</th>\n",
       "      <td>10000012</td>\n",
       "      <td>80102</td>\n",
       "      <td>211704</td>\n",
       "      <td>2</td>\n",
       "      <td>BRONX</td>\n",
       "      <td>751</td>\n",
       "      <td>751</td>\n",
       "      <td>751</td>\n",
       "      <td>GERARD AVENUE</td>\n",
       "      <td>35020</td>\n",
       "      <td>...</td>\n",
       "      <td>Original</td>\n",
       "      <td>Close</td>\n",
       "      <td>40.824692</td>\n",
       "      <td>-73.926605</td>\n",
       "      <td>4.0</td>\n",
       "      <td>8.0</td>\n",
       "      <td>63.0</td>\n",
       "      <td>2002971.0</td>\n",
       "      <td>2.024820e+09</td>\n",
       "      <td>West Concourse</td>\n",
       "    </tr>\n",
       "    <tr>\n",
       "      <th>3</th>\n",
       "      <td>10000014</td>\n",
       "      <td>268639</td>\n",
       "      <td>350942</td>\n",
       "      <td>3</td>\n",
       "      <td>BROOKLYN</td>\n",
       "      <td>54</td>\n",
       "      <td>54</td>\n",
       "      <td>54</td>\n",
       "      <td>EAST 52 STREET</td>\n",
       "      <td>37080</td>\n",
       "      <td>...</td>\n",
       "      <td>Original</td>\n",
       "      <td>Close</td>\n",
       "      <td>40.659731</td>\n",
       "      <td>-73.929295</td>\n",
       "      <td>17.0</td>\n",
       "      <td>41.0</td>\n",
       "      <td>878.0</td>\n",
       "      <td>3099672.0</td>\n",
       "      <td>3.046050e+09</td>\n",
       "      <td>Prospect Lefferts Gardens-Wingate</td>\n",
       "    </tr>\n",
       "    <tr>\n",
       "      <th>4</th>\n",
       "      <td>10000017</td>\n",
       "      <td>268167</td>\n",
       "      <td>300713</td>\n",
       "      <td>3</td>\n",
       "      <td>BROOKLYN</td>\n",
       "      <td>146</td>\n",
       "      <td>146</td>\n",
       "      <td>146</td>\n",
       "      <td>EAST 52 STREET</td>\n",
       "      <td>37080</td>\n",
       "      <td>...</td>\n",
       "      <td>Original</td>\n",
       "      <td>Close</td>\n",
       "      <td>40.657615</td>\n",
       "      <td>-73.929067</td>\n",
       "      <td>17.0</td>\n",
       "      <td>41.0</td>\n",
       "      <td>878.0</td>\n",
       "      <td>3100214.0</td>\n",
       "      <td>3.046210e+09</td>\n",
       "      <td>Prospect Lefferts Gardens-Wingate</td>\n",
       "    </tr>\n",
       "  </tbody>\n",
       "</table>\n",
       "<p>5 rows × 40 columns</p>\n",
       "</div>"
      ],
      "text/plain": [
       "   ViolationID  BuildingID  RegistrationID  BoroID   Borough HouseNumber  \\\n",
       "0     10000009      265980          301467       3  BROOKLYN         355   \n",
       "1     10000011       73852          226626       2     BRONX        1123   \n",
       "2     10000012       80102          211704       2     BRONX         751   \n",
       "3     10000014      268639          350942       3  BROOKLYN          54   \n",
       "4     10000017      268167          300713       3  BROOKLYN         146   \n",
       "\n",
       "  LowHouseNumber HighHouseNumber           StreetName  StreetCode  \\\n",
       "0            355             355       EAST 48 STREET       36930   \n",
       "1           1123            1123  EAST TREMONT AVENUE       29620   \n",
       "2            751             751        GERARD AVENUE       35020   \n",
       "3             54              54       EAST 52 STREET       37080   \n",
       "4            146             146       EAST 52 STREET       37080   \n",
       "\n",
       "                 ...                   NovType ViolationStatus   Latitude  \\\n",
       "0                ...                  Original           Close  40.653217   \n",
       "1                ...                  Original           Close  40.839954   \n",
       "2                ...                  Original           Close  40.824692   \n",
       "3                ...                  Original           Close  40.659731   \n",
       "4                ...                  Original           Close  40.657615   \n",
       "\n",
       "   Longitude  CommunityBoard CouncilDistrict CensusTract        BIN  \\\n",
       "0 -73.932480            17.0            41.0       870.0  3102071.0   \n",
       "1 -73.876599             6.0            15.0       220.0  2042428.0   \n",
       "2 -73.926605             4.0             8.0        63.0  2002971.0   \n",
       "3 -73.929295            17.0            41.0       878.0  3099672.0   \n",
       "4 -73.929067            17.0            41.0       878.0  3100214.0   \n",
       "\n",
       "            BBL                                NTA  \n",
       "0  3.046740e+09             East Flatbush-Farragut  \n",
       "1  2.040040e+09                       East Tremont  \n",
       "2  2.024820e+09                     West Concourse  \n",
       "3  3.046050e+09  Prospect Lefferts Gardens-Wingate  \n",
       "4  3.046210e+09  Prospect Lefferts Gardens-Wingate  \n",
       "\n",
       "[5 rows x 40 columns]"
      ]
     },
     "execution_count": 5,
     "metadata": {},
     "output_type": "execute_result"
    }
   ],
   "source": [
    "df.head()"
   ]
  },
  {
   "cell_type": "markdown",
   "metadata": {},
   "source": [
    "violations.csv is quite heavy! Narrow the query!"
   ]
  },
  {
   "cell_type": "code",
   "execution_count": null,
   "metadata": {},
   "outputs": [],
   "source": []
  },
  {
   "cell_type": "code",
   "execution_count": null,
   "metadata": {},
   "outputs": [],
   "source": []
  },
  {
   "cell_type": "code",
   "execution_count": null,
   "metadata": {},
   "outputs": [],
   "source": []
  },
  {
   "cell_type": "code",
   "execution_count": null,
   "metadata": {},
   "outputs": [],
   "source": []
  },
  {
   "cell_type": "code",
   "execution_count": null,
   "metadata": {},
   "outputs": [],
   "source": []
  },
  {
   "cell_type": "code",
   "execution_count": null,
   "metadata": {},
   "outputs": [],
   "source": []
  },
  {
   "cell_type": "code",
   "execution_count": null,
   "metadata": {},
   "outputs": [],
   "source": []
  }
 ],
 "metadata": {
  "kernelspec": {
   "display_name": "Python 3",
   "language": "python",
   "name": "python3"
  },
  "language_info": {
   "codemirror_mode": {
    "name": "ipython",
    "version": 3
   },
   "file_extension": ".py",
   "mimetype": "text/x-python",
   "name": "python",
   "nbconvert_exporter": "python",
   "pygments_lexer": "ipython3",
   "version": "3.6.5"
  }
 },
 "nbformat": 4,
 "nbformat_minor": 2
}
