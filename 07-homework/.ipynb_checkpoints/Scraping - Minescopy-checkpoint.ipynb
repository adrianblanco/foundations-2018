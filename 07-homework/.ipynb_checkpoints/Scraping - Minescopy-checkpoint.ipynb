{
 "cells": [
  {
   "cell_type": "markdown",
   "metadata": {},
   "source": [
    "# Mine Safety\n",
    "\n",
    "We're interested in [US mine safety](https://arlweb.msha.gov/drs/drshome.htm), thank goodness we can search for these things."
   ]
  },
  {
   "cell_type": "markdown",
   "metadata": {},
   "source": [
    "## Setup: Import what you'll need to search and scrape and Selenium"
   ]
  },
  {
   "cell_type": "code",
   "execution_count": 1,
   "metadata": {},
   "outputs": [],
   "source": [
    "from selenium import webdriver\n",
    "from selenium.webdriver.common.keys import Keys\n",
    "from selenium.webdriver.support.ui import Select\n",
    "from selenium.webdriver.support.ui import WebDriverWait"
   ]
  },
  {
   "cell_type": "code",
   "execution_count": 2,
   "metadata": {},
   "outputs": [],
   "source": [
    "driver = webdriver.Chrome()"
   ]
  },
  {
   "cell_type": "code",
   "execution_count": 3,
   "metadata": {},
   "outputs": [],
   "source": [
    "driver.get(\"https://arlweb.msha.gov/drs/drshome.htm\")"
   ]
  },
  {
   "cell_type": "markdown",
   "metadata": {},
   "source": [
    "## Starting from `https://arlweb.msha.gov/drs/drshome.htm`, search for every operator with 'dirt' in their name, including abandoned mines.\n",
    "\n",
    "> - *Tip: If you can't make an element work using name, class or ID, try to use the XPath*"
   ]
  },
  {
   "cell_type": "code",
   "execution_count": 4,
   "metadata": {},
   "outputs": [],
   "source": [
    "# contractor_name = driver.find_element_by_xpath('//*[@id=\"inputdrs\"]')\n",
    "contractor_name = driver.find_element_by_name('OperSearch')\n",
    "contractor_name.send_keys('dirt')"
   ]
  },
  {
   "cell_type": "code",
   "execution_count": 5,
   "metadata": {},
   "outputs": [],
   "source": [
    "abandoned_button = driver.find_element_by_name('Abandoned')\n",
    "abandoned_button.click()"
   ]
  },
  {
   "cell_type": "code",
   "execution_count": 6,
   "metadata": {},
   "outputs": [],
   "source": [
    "search_button = driver.find_element_by_xpath('//*[@id=\"content\"]/form[1]/table/tbody/tr[7]/td[3]/input[1]')\n",
    "search_button.click()"
   ]
  },
  {
   "cell_type": "markdown",
   "metadata": {},
   "source": [
    "## Scrape the results page, saving it as `dirt-operators.csv`\n",
    "\n",
    "> - *Tip: Think about what each row in your dataset will be, and start by looping through that*\n",
    "> - *Tip: Printing is cool and good! Print everything! Move it into a dictionary later.*\n",
    "> - *Tip: If you don't want a row, think about what's in the row that makes it different. You can use an `if` statement or list slicing to skip the ones you aren't interested in.*\n",
    "> - *Tip: Make sure your dictionary and your loop variable have DIFFERENT NAMES*\n",
    "> - *Tip: After you've made your dictionary (and printed it, of course), you'll want to add it to your list of rows*\n",
    "> - *Tip: Be sure to import pandas to convert it to a dataframe*\n",
    "> - *Tip: Make sure you don't include the index when saving your dataframe*"
   ]
  },
  {
   "cell_type": "markdown",
   "metadata": {},
   "source": [
    "### Hopefully you know that each `tr` is supposed to be a row of your data. What is the index of the first row element that is actually a result?\n",
    "\n",
    "`.text` will help you here."
   ]
  },
  {
   "cell_type": "code",
   "execution_count": 7,
   "metadata": {},
   "outputs": [],
   "source": [
    "# Index 1 | Index 0 would return the head of the table\n",
    "first_row = driver.find_elements_by_tag_name('tr')[1]"
   ]
  },
  {
   "cell_type": "code",
   "execution_count": 8,
   "metadata": {},
   "outputs": [
    {
     "data": {
      "text/plain": [
       "'Abandoned*\\nIndicates Mine is Abandoned and Sealed\\n*CM (Coal or Metal Mine/Nonmetal Mine)\\nC\\nM ...... Coal\\n...... Metal/Nonmetal'"
      ]
     },
     "execution_count": 8,
     "metadata": {},
     "output_type": "execute_result"
    }
   ],
   "source": [
    "# Result\n",
    "first_row.text"
   ]
  },
  {
   "cell_type": "markdown",
   "metadata": {},
   "source": [
    "#### As a result the index of the first row element is 1"
   ]
  },
  {
   "cell_type": "markdown",
   "metadata": {},
   "source": [
    "### Loop through each operator result, printing its name\n",
    "\n",
    "You can use list slicing or an `if` statement to skip the non-data row(s)."
   ]
  },
  {
   "cell_type": "code",
   "execution_count": 9,
   "metadata": {},
   "outputs": [],
   "source": [
    "#rows = driver.find_elements_by_tag_name('tr')[6:]\n",
    "\n",
    "#for row in rows[:20]:\n",
    "    \n",
    "#    cells = []\n",
    "#    cells.append(row.find_elements_by_tag_name('td'))\n",
    "    \n",
    "#    row.find_elements_by_tag_name('td')\n",
    "\n",
    "#print(cells)"
   ]
  },
  {
   "cell_type": "code",
   "execution_count": 10,
   "metadata": {},
   "outputs": [
    {
     "name": "stdout",
     "output_type": "stream",
     "text": [
      "Newberg Rock & Dirt  \n",
      "Allied Dirt Moving Company  \n",
      "AM Dirtworks & Aggregate Sales  \n",
      "Atlas-Dirty Devil Mining  \n",
      "Atlas-Dirty Devil Mining  \n",
      "Babe's Dirt Work  \n",
      "Bar-Lin Dirt Company  \n",
      "Barber'S Dirt Pit  \n",
      "Bender Sand & Dirt  \n",
      "BERT'S DIRT  \n",
      "Big D Dirt Service Inc  \n",
      "Big Red Dirt Farm LLC  \n",
      "Big River Dirt Pit  \n",
      "Bob Harris Dirt Contracting  \n",
      "Bohannon Sand & Dirt  \n",
      "Bratcher'S Sand & Dirt  \n",
      "Brewer Dirt Works  \n",
      "Buck'S Dirt Pit  \n",
      "C & G Dirt Hauling  \n",
      "C N C Dirt Movers, Inc.  \n",
      "Cambridge Dirt Sand and Gravel LLC  \n",
      "Central Iowa Dirt & Demo LLC  \n",
      "Crowes Trucking & Dirt Pit Services  \n",
      "D & H Dirt  \n",
      "Diez Dirt & Sand Hauling Inc  \n",
      "Dirt Cheap  \n",
      "Dirt Company  \n",
      "Dirt Company  \n",
      "Dirt Company  \n",
      "Dirt Con  \n",
      "Dirt Diggers Inc  \n",
      "Dirt Doctor Inc  \n",
      "Dirt Inc  \n",
      "Dirt Pit  \n",
      "Dirt Work Specialists LLC  \n",
      "Dirt Works  \n",
      "Dirtco Inc  \n",
      "Dirtman Trucking  \n",
      "DIRTWORKS, INC.  \n",
      "Dirtworks, Inc.  \n",
      "Dirty Coal  \n",
      "Dorchester Dirt Company Inc  \n",
      "Douglas Dirt Sand & Gravel Company  \n",
      "Ell Dirt Works LLC.  \n",
      "Floyd Smith Dirt Pit  \n",
      "Gary Kelm Dirt Service  \n",
      "Gerald Fenger/Rock & Dirt Const  \n",
      "Gerald Illies Gravel & Dirt Company  \n",
      "Guidry Sand & Dirt Pit Inc  \n",
      "Harris Dirt Company Inc  \n",
      "Hatchet Creek Rock & Dirt LLC  \n",
      "Holley Dirt Company, Inc  \n",
      "Iske Dirt Sand & Gravel  \n",
      "J M Lynn Dirtwork  \n",
      "Jake Diel Dirt & Paving Inc  \n",
      "Jake Diel Dirt & Paving Inc  \n",
      "Jake Diel Dirt & Paving Inc  \n",
      "Jake Diel Dirt & Paving Inc  \n",
      "Jake Diel Dirt & Paving Inc  \n",
      "Jake Diel Dirt & Paving Inc  \n",
      "Jake Diel Dirt & Paving Inc  \n",
      "Jake Diel Dirt & Paving Inc  \n",
      "Jarratt Dirt Work and Paving, Inc.  \n",
      "JBS DIRT, INC.  \n",
      "Jones Bros Dirt & Paving Contractors Inc  \n",
      "Krueger Brothers Gravel & Dirt  \n",
      "Krueger Dirt Werx, Inc.  \n",
      "L I P Dirt & Trucking  \n",
      "Lee'S Dirt Pit Inc  \n",
      "Little-G-Dirt Pit  \n",
      "Lone Star Dirt & Paving  \n",
      "Loyd'S Dirt & Gravel  \n",
      "M R Dirt  \n",
      "M.C. Dirt LLC  \n",
      "M.R. Dirt Inc.  \n",
      "Maurice Dirt & Sand  \n",
      "Mc Dirt Industries Inc  \n",
      "Mike Duhon Dirt Pit  \n",
      "Mike Duhon Dirt Pit  \n",
      "Mike Duhon Dirt Pit  \n",
      "Moss Dirt Company  \n",
      "Moss Dirt Company  \n",
      "Muckler Fill Dirt & Top Soil  \n",
      "Nelson & Sons Dirt Haulers Inc  \n",
      "Nelson'S Dirt Pit  \n",
      "Nicholson Dirt Contracting  \n",
      "Nitty Gritty Dirt LLC  \n",
      "Northest Louisiana Dirt Contractors  \n",
      "Orvil Carter Dirt Contractor Inc  \n",
      "Orvil Carter Dirt Contractor Inc  \n",
      "P B Dirt Movers Inc  \n",
      "P B Dirt Movers Inc  \n",
      "P B Dirt Movers Inc  \n",
      "P B Dirt Movers Inc  \n",
      "P B Dirt Movers Inc  \n",
      "P B Dirt Movers Inc.  \n",
      "P B Dirt Movers, Inc  \n",
      "P B Dirt Movers, Inc.  \n",
      "P.B. Dirtmovers  \n",
      "PAPA'S DIRT WORKES  \n",
      "Paydirt Exc Inc  \n",
      "PB Dirt Movers  \n",
      "PB Dirt Movers Inc.  \n",
      "PB Dirt Movers, Inc  \n",
      "Peveto Dirt Pit  \n",
      "Phil-Dirt Industries, Inc  \n",
      "Prescott Dirt, LLC  \n",
      "R & R Dirtworks  \n",
      "R D Blankenship Dirt Work LLC  \n",
      "Reeves Dirt Pit Inc  \n",
      "River Bottom Dirt  \n",
      "Roe'S Dirt Pit  \n",
      "Russell Trest-Dirt Contractor  \n",
      "S J Stahr Dirt Movers Inc  \n",
      "Sand & Dirt, Inc  \n",
      "Sand and Dirt, Inc.  \n",
      "Sierra Rock & Dirt, Inc.  \n",
      "Simpson Dirtworx llc  \n",
      "SIMPSON DIRTWORX LLC  \n",
      "SIMPSON DIRTWORX LLC  \n",
      "Slay'S Dirt Hauling  \n",
      "Southside Dirt Company  \n",
      "Spry's Dirt & Gravel, Inc.  \n",
      "Stewart Dirt Pit  \n",
      "Stewart Dirt Work, Inc.  \n",
      "Sweat'S Dirt Hauling Inc  \n",
      "Toler Roe Dirt Pit  \n",
      "Tres Palacios Dirt, Sand & Gravel  \n",
      "Vogt Dirt Service  \n",
      "Watson Dirt Sand & Gravel Pit Inc  \n",
      "Y B Dirt & Loam  \n",
      "Yarbrough Dirt Pit Inc  \n"
     ]
    },
    {
     "ename": "IndexError",
     "evalue": "list index out of range",
     "output_type": "error",
     "traceback": [
      "\u001b[0;31m---------------------------------------------------------------------------\u001b[0m",
      "\u001b[0;31mIndexError\u001b[0m                                Traceback (most recent call last)",
      "\u001b[0;32m<ipython-input-10-9396aca2ffee>\u001b[0m in \u001b[0;36m<module>\u001b[0;34m()\u001b[0m\n\u001b[1;32m      8\u001b[0m     \u001b[0mcells\u001b[0m \u001b[0;34m=\u001b[0m \u001b[0mrow\u001b[0m\u001b[0;34m.\u001b[0m\u001b[0mfind_elements_by_tag_name\u001b[0m\u001b[0;34m(\u001b[0m\u001b[0;34m'td'\u001b[0m\u001b[0;34m)\u001b[0m\u001b[0;34m\u001b[0m\u001b[0m\n\u001b[1;32m      9\u001b[0m \u001b[0;34m\u001b[0m\u001b[0m\n\u001b[0;32m---> 10\u001b[0;31m     \u001b[0moperator_name\u001b[0m \u001b[0;34m=\u001b[0m \u001b[0mcells\u001b[0m\u001b[0;34m[\u001b[0m\u001b[0;36m2\u001b[0m\u001b[0;34m]\u001b[0m\u001b[0;34m.\u001b[0m\u001b[0mtext\u001b[0m\u001b[0;34m\u001b[0m\u001b[0m\n\u001b[0m\u001b[1;32m     11\u001b[0m \u001b[0;34m\u001b[0m\u001b[0m\n\u001b[1;32m     12\u001b[0m     \u001b[0mprint\u001b[0m\u001b[0;34m(\u001b[0m\u001b[0moperator_name\u001b[0m\u001b[0;34m)\u001b[0m\u001b[0;34m\u001b[0m\u001b[0m\n",
      "\u001b[0;31mIndexError\u001b[0m: list index out of range"
     ]
    }
   ],
   "source": [
    "table = driver.find_element_by_xpath('/html/body/div[5]/div/table[3]')\n",
    "rows = table.find_elements_by_tag_name('tr')\n",
    "\n",
    "for row in rows[1:]:\n",
    "    \n",
    "    # Store the info of each row in a single cell\n",
    "    # to be able to select by column/variable\n",
    "    cells = row.find_elements_by_tag_name('td')\n",
    "    \n",
    "    operator_name = cells[2].text\n",
    "    \n",
    "    print(operator_name)\n"
   ]
  },
  {
   "cell_type": "markdown",
   "metadata": {},
   "source": [
    "### Loop through each operator result, printing its ID\n",
    "\n",
    "There should be ONE code per row, and NO empty rows between them."
   ]
  },
  {
   "cell_type": "code",
   "execution_count": null,
   "metadata": {},
   "outputs": [],
   "source": [
    "table = driver.find_element_by_xpath('/html/body/div[5]/div/table[3]')\n",
    "rows = table.find_elements_by_tag_name('tr')\n",
    "\n",
    "for row in rows[1:]:\n",
    "    \n",
    "    # Store the info of each row in a single cell\n",
    "    # to be able to select by column/variable\n",
    "    cells = row.find_elements_by_tag_name('td')\n",
    "    \n",
    "    operator_id = cells[0].text\n",
    "    \n",
    "    print(operator_id)"
   ]
  },
  {
   "cell_type": "markdown",
   "metadata": {},
   "source": [
    "## Saving the results\n",
    "\n",
    "### Loop through each `tr` to create a list of dictionaries\n",
    "\n",
    "Each dictionary must contain\n",
    "\n",
    "- Operator ID\n",
    "- Operator name\n",
    "- Mine name\n",
    "- State\n",
    "- Mine type\n",
    "- Coal or metal\n",
    "- Status\n",
    "- Commodity\n",
    "\n",
    "Create a new dictionary for each row."
   ]
  },
  {
   "cell_type": "code",
   "execution_count": null,
   "metadata": {},
   "outputs": [],
   "source": [
    "#table = driver.find_element_by_xpath('/html/body/div[5]/div/table[3]')\n",
    "#rows = table.find_elements_by_tag_name('tr')\n",
    "\n",
    "#for row in rows[1:10]:\n",
    "#    cells = row.find_elements_by_tag_name('td')\n",
    "#    operator_id = cells[0].text\n",
    "#    state = cells[1].text\n",
    "#    operator_name = cells[2].text\n",
    "#    mine_name = cells[3].text\n",
    "#    mine_type = cells[4].text\n",
    "#    cm = cells[5].text\n",
    "#    status = cells[6].text\n",
    "#    commodity = cells[7].text\n",
    "\n",
    "    "
   ]
  },
  {
   "cell_type": "code",
   "execution_count": null,
   "metadata": {},
   "outputs": [],
   "source": [
    "table = driver.find_element_by_xpath('/html/body/div[5]/div/table[3]')\n",
    "rows = table.find_elements_by_tag_name('tr')\n",
    "\n",
    "data = []\n",
    "\n",
    "for row in rows[1:10]:\n",
    "    \n",
    "    rowdict = {}\n",
    "    \n",
    "    cells = row.find_elements_by_tag_name('td')\n",
    "    \n",
    "    rowdict['operator_id'] = cells[0].text\n",
    "    rowdict['state'] = cells[1].text\n",
    "    rowdict['operator_name'] = cells[2].text\n",
    "    rowdict['mine_name'] = cells[3].text\n",
    "    rowdict['mine_type'] = cells[4].text\n",
    "    rowdict['cm'] = cells[5].text\n",
    "    rowdict['status'] = cells[6].text\n",
    "    rowdict['commodity'] = cells[7].text\n",
    "    \n",
    "    data.append(rowdict)\n",
    "    \n",
    "print(data)"
   ]
  },
  {
   "cell_type": "markdown",
   "metadata": {},
   "source": [
    "### Save that to a CSV named `dirt-operators.csv`"
   ]
  },
  {
   "cell_type": "code",
   "execution_count": null,
   "metadata": {},
   "outputs": [],
   "source": [
    "import pandas as pd\n",
    "\n",
    "df = pd.DataFrame(data)\n",
    "df.head(10)"
   ]
  },
  {
   "cell_type": "code",
   "execution_count": null,
   "metadata": {},
   "outputs": [],
   "source": [
    "df.to_csv(\"dirt-operators.csv\", index=False)"
   ]
  },
  {
   "cell_type": "markdown",
   "metadata": {},
   "source": [
    "### Open the CSV file and examine the first few.\n",
    "\n",
    "Make sure you didn't save that extra weird unnamed index column."
   ]
  },
  {
   "cell_type": "code",
   "execution_count": null,
   "metadata": {},
   "outputs": [],
   "source": [
    "df = pd.read_csv(\"dirt-operators.csv\")"
   ]
  },
  {
   "cell_type": "code",
   "execution_count": null,
   "metadata": {},
   "outputs": [],
   "source": [
    "df.head()"
   ]
  },
  {
   "cell_type": "code",
   "execution_count": null,
   "metadata": {},
   "outputs": [],
   "source": []
  }
 ],
 "metadata": {
  "kernelspec": {
   "display_name": "Python 3",
   "language": "python",
   "name": "python3"
  },
  "language_info": {
   "codemirror_mode": {
    "name": "ipython",
    "version": 3
   },
   "file_extension": ".py",
   "mimetype": "text/x-python",
   "name": "python",
   "nbconvert_exporter": "python",
   "pygments_lexer": "ipython3",
   "version": "3.6.5"
  }
 },
 "nbformat": 4,
 "nbformat_minor": 2
}
