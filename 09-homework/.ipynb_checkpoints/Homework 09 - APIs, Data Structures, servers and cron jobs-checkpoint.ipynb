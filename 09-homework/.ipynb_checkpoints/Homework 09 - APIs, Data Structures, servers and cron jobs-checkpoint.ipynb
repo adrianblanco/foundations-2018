{
 "cells": [
  {
   "cell_type": "code",
   "execution_count": 1,
   "metadata": {},
   "outputs": [],
   "source": [
    "import requests\n",
    "from bs4 import BeautifulSoup\n",
    "import pandas as pd"
   ]
  },
  {
   "cell_type": "code",
   "execution_count": 2,
   "metadata": {},
   "outputs": [],
   "source": [
    "response = requests.get('https://api.darksky.net/forecast/99c2bd2db30d69c26edb72401bbf4f23/40.714188,-73.949169')"
   ]
  },
  {
   "cell_type": "code",
   "execution_count": 3,
   "metadata": {},
   "outputs": [],
   "source": [
    "data = response.json()"
   ]
  },
  {
   "cell_type": "code",
   "execution_count": 4,
   "metadata": {},
   "outputs": [
    {
     "name": "stdout",
     "output_type": "stream",
     "text": [
      "{'latitude': 40.714188, 'longitude': -73.949169, 'timezone': 'America/New_York', 'currently': {'time': 1529347122, 'summary': 'Partly Cloudy', 'icon': 'partly-cloudy-day', 'nearestStormDistance': 8, 'nearestStormBearing': 13, 'precipIntensity': 0, 'precipProbability': 0, 'temperature': 89.55, 'apparentTemperature': 93.73, 'dewPoint': 68.37, 'humidity': 0.5, 'pressure': 1012.58, 'windSpeed': 10.01, 'windGust': 12.87, 'windBearing': 203, 'cloudCover': 0.4, 'uvIndex': 7, 'visibility': 10, 'ozone': 298.82}, 'minutely': {'summary': 'Partly cloudy for the hour.', 'icon': 'partly-cloudy-day', 'data': [{'time': 1529347080, 'precipIntensity': 0, 'precipProbability': 0}, {'time': 1529347140, 'precipIntensity': 0, 'precipProbability': 0}, {'time': 1529347200, 'precipIntensity': 0, 'precipProbability': 0}, {'time': 1529347260, 'precipIntensity': 0, 'precipProbability': 0}, {'time': 1529347320, 'precipIntensity': 0, 'precipProbability': 0}, {'time': 1529347380, 'precipIntensity': 0, 'precipProbability': 0}, {'time': 1529347440, 'precipIntensity': 0, 'precipProbability': 0}, {'time': 1529347500, 'precipIntensity': 0, 'precipProbability': 0}, {'time': 1529347560, 'precipIntensity': 0, 'precipProbability': 0}, {'time': 1529347620, 'precipIntensity': 0, 'precipProbability': 0}, {'time': 1529347680, 'precipIntensity': 0, 'precipProbability': 0}, {'time': 1529347740, 'precipIntensity': 0, 'precipProbability': 0}, {'time': 1529347800, 'precipIntensity': 0, 'precipProbability': 0}, {'time': 1529347860, 'precipIntensity': 0, 'precipProbability': 0}, {'time': 1529347920, 'precipIntensity': 0, 'precipProbability': 0}, {'time': 1529347980, 'precipIntensity': 0, 'precipProbability': 0}, {'time': 1529348040, 'precipIntensity': 0, 'precipProbability': 0}, {'time': 1529348100, 'precipIntensity': 0, 'precipProbability': 0}, {'time': 1529348160, 'precipIntensity': 0, 'precipProbability': 0}, {'time': 1529348220, 'precipIntensity': 0, 'precipProbability': 0}, {'time': 1529348280, 'precipIntensity': 0, 'precipProbability': 0}, {'time': 1529348340, 'precipIntensity': 0.002, 'precipIntensityError': 0, 'precipProbability': 0.01, 'precipType': 'rain'}, {'time': 1529348400, 'precipIntensity': 0.002, 'precipIntensityError': 0, 'precipProbability': 0.02, 'precipType': 'rain'}, {'time': 1529348460, 'precipIntensity': 0.002, 'precipIntensityError': 0, 'precipProbability': 0.02, 'precipType': 'rain'}, {'time': 1529348520, 'precipIntensity': 0.002, 'precipIntensityError': 0, 'precipProbability': 0.03, 'precipType': 'rain'}, {'time': 1529348580, 'precipIntensity': 0.002, 'precipIntensityError': 0, 'precipProbability': 0.04, 'precipType': 'rain'}, {'time': 1529348640, 'precipIntensity': 0.002, 'precipIntensityError': 0, 'precipProbability': 0.05, 'precipType': 'rain'}, {'time': 1529348700, 'precipIntensity': 0.002, 'precipIntensityError': 0, 'precipProbability': 0.06, 'precipType': 'rain'}, {'time': 1529348760, 'precipIntensity': 0.002, 'precipIntensityError': 0, 'precipProbability': 0.07, 'precipType': 'rain'}, {'time': 1529348820, 'precipIntensity': 0.002, 'precipIntensityError': 0.001, 'precipProbability': 0.07, 'precipType': 'rain'}, {'time': 1529348880, 'precipIntensity': 0.002, 'precipIntensityError': 0.001, 'precipProbability': 0.08, 'precipType': 'rain'}, {'time': 1529348940, 'precipIntensity': 0.003, 'precipIntensityError': 0.001, 'precipProbability': 0.08, 'precipType': 'rain'}, {'time': 1529349000, 'precipIntensity': 0.003, 'precipIntensityError': 0.001, 'precipProbability': 0.08, 'precipType': 'rain'}, {'time': 1529349060, 'precipIntensity': 0.003, 'precipIntensityError': 0.001, 'precipProbability': 0.08, 'precipType': 'rain'}, {'time': 1529349120, 'precipIntensity': 0.003, 'precipIntensityError': 0.001, 'precipProbability': 0.07, 'precipType': 'rain'}, {'time': 1529349180, 'precipIntensity': 0.003, 'precipIntensityError': 0.001, 'precipProbability': 0.08, 'precipType': 'rain'}, {'time': 1529349240, 'precipIntensity': 0.003, 'precipIntensityError': 0.001, 'precipProbability': 0.07, 'precipType': 'rain'}, {'time': 1529349300, 'precipIntensity': 0.003, 'precipIntensityError': 0.001, 'precipProbability': 0.07, 'precipType': 'rain'}, {'time': 1529349360, 'precipIntensity': 0.003, 'precipIntensityError': 0.001, 'precipProbability': 0.06, 'precipType': 'rain'}, {'time': 1529349420, 'precipIntensity': 0.003, 'precipIntensityError': 0.001, 'precipProbability': 0.06, 'precipType': 'rain'}, {'time': 1529349480, 'precipIntensity': 0.003, 'precipIntensityError': 0.001, 'precipProbability': 0.04, 'precipType': 'rain'}, {'time': 1529349540, 'precipIntensity': 0.003, 'precipIntensityError': 0.001, 'precipProbability': 0.05, 'precipType': 'rain'}, {'time': 1529349600, 'precipIntensity': 0.003, 'precipIntensityError': 0.001, 'precipProbability': 0.04, 'precipType': 'rain'}, {'time': 1529349660, 'precipIntensity': 0.003, 'precipIntensityError': 0.001, 'precipProbability': 0.04, 'precipType': 'rain'}, {'time': 1529349720, 'precipIntensity': 0.003, 'precipIntensityError': 0.001, 'precipProbability': 0.03, 'precipType': 'rain'}, {'time': 1529349780, 'precipIntensity': 0.003, 'precipIntensityError': 0.001, 'precipProbability': 0.03, 'precipType': 'rain'}, {'time': 1529349840, 'precipIntensity': 0.003, 'precipIntensityError': 0.001, 'precipProbability': 0.02, 'precipType': 'rain'}, {'time': 1529349900, 'precipIntensity': 0, 'precipProbability': 0}, {'time': 1529349960, 'precipIntensity': 0.003, 'precipIntensityError': 0.001, 'precipProbability': 0.01, 'precipType': 'rain'}, {'time': 1529350020, 'precipIntensity': 0.003, 'precipIntensityError': 0.001, 'precipProbability': 0.01, 'precipType': 'rain'}, {'time': 1529350080, 'precipIntensity': 0, 'precipProbability': 0}, {'time': 1529350140, 'precipIntensity': 0, 'precipProbability': 0}, {'time': 1529350200, 'precipIntensity': 0, 'precipProbability': 0}, {'time': 1529350260, 'precipIntensity': 0, 'precipProbability': 0}, {'time': 1529350320, 'precipIntensity': 0, 'precipProbability': 0}, {'time': 1529350380, 'precipIntensity': 0, 'precipProbability': 0}, {'time': 1529350440, 'precipIntensity': 0, 'precipProbability': 0}, {'time': 1529350500, 'precipIntensity': 0, 'precipProbability': 0}, {'time': 1529350560, 'precipIntensity': 0, 'precipProbability': 0}, {'time': 1529350620, 'precipIntensity': 0, 'precipProbability': 0}, {'time': 1529350680, 'precipIntensity': 0, 'precipProbability': 0}]}, 'hourly': {'summary': 'Light rain tonight.', 'icon': 'rain', 'data': [{'time': 1529344800, 'summary': 'Partly Cloudy', 'icon': 'partly-cloudy-day', 'precipIntensity': 0.0036, 'precipProbability': 0.01, 'precipType': 'rain', 'temperature': 88.71, 'apparentTemperature': 93.08, 'dewPoint': 68.8, 'humidity': 0.52, 'pressure': 1013.17, 'windSpeed': 9.17, 'windGust': 11.27, 'windBearing': 203, 'cloudCover': 0.29, 'uvIndex': 8, 'visibility': 10, 'ozone': 298.65}, {'time': 1529348400, 'summary': 'Partly Cloudy', 'icon': 'partly-cloudy-day', 'precipIntensity': 0.0015, 'precipProbability': 0.03, 'precipType': 'rain', 'temperature': 90, 'apparentTemperature': 94.07, 'dewPoint': 68.12, 'humidity': 0.49, 'pressure': 1012.25, 'windSpeed': 10.47, 'windGust': 13.76, 'windBearing': 203, 'cloudCover': 0.46, 'uvIndex': 6, 'visibility': 10, 'ozone': 298.92}, {'time': 1529352000, 'summary': 'Partly Cloudy', 'icon': 'partly-cloudy-day', 'precipIntensity': 0.0012, 'precipProbability': 0.03, 'precipType': 'rain', 'temperature': 90.45, 'apparentTemperature': 94.05, 'dewPoint': 67.37, 'humidity': 0.47, 'pressure': 1011.14, 'windSpeed': 11.39, 'windGust': 16.61, 'windBearing': 203, 'cloudCover': 0.54, 'uvIndex': 3, 'visibility': 10, 'ozone': 299.47}, {'time': 1529355600, 'summary': 'Partly Cloudy', 'icon': 'partly-cloudy-day', 'precipIntensity': 0.0006, 'precipProbability': 0.03, 'precipType': 'rain', 'temperature': 90.02, 'apparentTemperature': 93.39, 'dewPoint': 67.13, 'humidity': 0.47, 'pressure': 1010.57, 'windSpeed': 11.43, 'windGust': 17.61, 'windBearing': 206, 'cloudCover': 0.5, 'uvIndex': 2, 'visibility': 10, 'ozone': 300.08}, {'time': 1529359200, 'summary': 'Mostly Cloudy', 'icon': 'partly-cloudy-day', 'precipIntensity': 0.0018, 'precipProbability': 0.04, 'precipType': 'rain', 'temperature': 88.9, 'apparentTemperature': 92.4, 'dewPoint': 67.53, 'humidity': 0.5, 'pressure': 1009.95, 'windSpeed': 11.02, 'windGust': 18.78, 'windBearing': 213, 'cloudCover': 0.61, 'uvIndex': 1, 'visibility': 10, 'ozone': 300.8}, {'time': 1529362800, 'summary': 'Mostly Cloudy', 'icon': 'partly-cloudy-day', 'precipIntensity': 0.0038, 'precipProbability': 0.06, 'precipType': 'rain', 'temperature': 86.12, 'apparentTemperature': 90.02, 'dewPoint': 68.69, 'humidity': 0.56, 'pressure': 1009.57, 'windSpeed': 10.17, 'windGust': 18.06, 'windBearing': 219, 'cloudCover': 0.66, 'uvIndex': 0, 'visibility': 10, 'ozone': 301.75}, {'time': 1529366400, 'summary': 'Partly Cloudy', 'icon': 'partly-cloudy-day', 'precipIntensity': 0.007, 'precipProbability': 0.07, 'precipType': 'rain', 'temperature': 84.24, 'apparentTemperature': 88.22, 'dewPoint': 69.32, 'humidity': 0.61, 'pressure': 1009.02, 'windSpeed': 9.51, 'windGust': 16.62, 'windBearing': 220, 'cloudCover': 0.57, 'uvIndex': 0, 'visibility': 10, 'ozone': 302.19}, {'time': 1529370000, 'summary': 'Mostly Cloudy', 'icon': 'partly-cloudy-night', 'precipIntensity': 0.0097, 'precipProbability': 0.07, 'precipType': 'rain', 'temperature': 82.35, 'apparentTemperature': 86.18, 'dewPoint': 69.8, 'humidity': 0.66, 'pressure': 1008.91, 'windSpeed': 9.33, 'windGust': 17.77, 'windBearing': 221, 'cloudCover': 0.67, 'uvIndex': 0, 'visibility': 10, 'ozone': 302.15}, {'time': 1529373600, 'summary': 'Possible Light Rain', 'icon': 'rain', 'precipIntensity': 0.0256, 'precipProbability': 0.11, 'precipType': 'rain', 'temperature': 80.74, 'apparentTemperature': 84.23, 'dewPoint': 70.17, 'humidity': 0.7, 'pressure': 1008.85, 'windSpeed': 9.47, 'windGust': 18.01, 'windBearing': 220, 'cloudCover': 0.5, 'uvIndex': 0, 'visibility': 10, 'ozone': 301.77}, {'time': 1529377200, 'summary': 'Possible Light Rain', 'icon': 'rain', 'precipIntensity': 0.0402, 'precipProbability': 0.15, 'precipType': 'rain', 'temperature': 79.65, 'apparentTemperature': 82.77, 'dewPoint': 70.44, 'humidity': 0.74, 'pressure': 1008.66, 'windSpeed': 9.35, 'windGust': 19.1, 'windBearing': 225, 'cloudCover': 0.64, 'uvIndex': 0, 'visibility': 10, 'ozone': 301.06}, {'time': 1529380800, 'summary': 'Possible Light Rain', 'icon': 'rain', 'precipIntensity': 0.0334, 'precipProbability': 0.14, 'precipType': 'rain', 'temperature': 79, 'apparentTemperature': 81.83, 'dewPoint': 70.51, 'humidity': 0.75, 'pressure': 1008.23, 'windSpeed': 9.38, 'windGust': 19.68, 'windBearing': 232, 'cloudCover': 0.77, 'uvIndex': 0, 'visibility': 10, 'ozone': 299.88}, {'time': 1529384400, 'summary': 'Mostly Cloudy', 'icon': 'partly-cloudy-night', 'precipIntensity': 0.0213, 'precipProbability': 0.14, 'precipType': 'rain', 'temperature': 78.59, 'apparentTemperature': 79.76, 'dewPoint': 70.67, 'humidity': 0.77, 'pressure': 1007.79, 'windSpeed': 10.24, 'windGust': 22.8, 'windBearing': 242, 'cloudCover': 0.75, 'uvIndex': 0, 'visibility': 10, 'ozone': 298.47}, {'time': 1529388000, 'summary': 'Mostly Cloudy', 'icon': 'partly-cloudy-night', 'precipIntensity': 0.0069, 'precipProbability': 0.1, 'precipType': 'rain', 'temperature': 77.78, 'apparentTemperature': 78.95, 'dewPoint': 70.57, 'humidity': 0.79, 'pressure': 1007.14, 'windSpeed': 9.23, 'windGust': 19.81, 'windBearing': 237, 'cloudCover': 0.83, 'uvIndex': 0, 'visibility': 10, 'ozone': 297.39}, {'time': 1529391600, 'summary': 'Mostly Cloudy', 'icon': 'partly-cloudy-night', 'precipIntensity': 0.0066, 'precipProbability': 0.08, 'precipType': 'rain', 'temperature': 77.4, 'apparentTemperature': 78.6, 'dewPoint': 70.75, 'humidity': 0.8, 'pressure': 1006.73, 'windSpeed': 9.57, 'windGust': 21.74, 'windBearing': 216, 'cloudCover': 0.71, 'uvIndex': 0, 'visibility': 10, 'ozone': 296.7}, {'time': 1529395200, 'summary': 'Mostly Cloudy', 'icon': 'partly-cloudy-night', 'precipIntensity': 0.009, 'precipProbability': 0.1, 'precipType': 'rain', 'temperature': 76.39, 'apparentTemperature': 77.5, 'dewPoint': 69.84, 'humidity': 0.8, 'pressure': 1006.13, 'windSpeed': 9.34, 'windGust': 26.26, 'windBearing': 324, 'cloudCover': 0.83, 'uvIndex': 0, 'visibility': 10, 'ozone': 296.52}, {'time': 1529398800, 'summary': 'Mostly Cloudy', 'icon': 'partly-cloudy-night', 'precipIntensity': 0.0098, 'precipProbability': 0.1, 'precipType': 'rain', 'temperature': 75.56, 'apparentTemperature': 76.67, 'dewPoint': 69.64, 'humidity': 0.82, 'pressure': 1005.91, 'windSpeed': 11.46, 'windGust': 26.93, 'windBearing': 273, 'cloudCover': 0.87, 'uvIndex': 0, 'visibility': 10, 'ozone': 296.98}, {'time': 1529402400, 'summary': 'Mostly Cloudy', 'icon': 'partly-cloudy-day', 'precipIntensity': 0.0078, 'precipProbability': 0.07, 'precipType': 'rain', 'temperature': 74.72, 'apparentTemperature': 75.81, 'dewPoint': 69.31, 'humidity': 0.83, 'pressure': 1006.13, 'windSpeed': 10.48, 'windGust': 25.76, 'windBearing': 253, 'cloudCover': 0.91, 'uvIndex': 0, 'visibility': 10, 'ozone': 298.62}, {'time': 1529406000, 'summary': 'Mostly Cloudy', 'icon': 'partly-cloudy-day', 'precipIntensity': 0.0029, 'precipProbability': 0.04, 'precipType': 'rain', 'temperature': 75.05, 'apparentTemperature': 76.08, 'dewPoint': 68.92, 'humidity': 0.81, 'pressure': 1006.83, 'windSpeed': 10.16, 'windGust': 23.57, 'windBearing': 321, 'cloudCover': 0.93, 'uvIndex': 0, 'visibility': 10, 'ozone': 301.07}, {'time': 1529409600, 'summary': 'Overcast', 'icon': 'cloudy', 'precipIntensity': 0.0014, 'precipProbability': 0.03, 'precipType': 'rain', 'temperature': 76.12, 'apparentTemperature': 77.06, 'dewPoint': 68.4, 'humidity': 0.77, 'pressure': 1007.44, 'windSpeed': 10.41, 'windGust': 21.43, 'windBearing': 323, 'cloudCover': 0.94, 'uvIndex': 1, 'visibility': 10, 'ozone': 302.94}, {'time': 1529413200, 'summary': 'Mostly Cloudy', 'icon': 'partly-cloudy-day', 'precipIntensity': 0.0006, 'precipProbability': 0.02, 'precipType': 'rain', 'temperature': 78.14, 'apparentTemperature': 78.96, 'dewPoint': 67.7, 'humidity': 0.7, 'pressure': 1007.9, 'windSpeed': 10.07, 'windGust': 19.62, 'windBearing': 327, 'cloudCover': 0.88, 'uvIndex': 2, 'visibility': 10, 'ozone': 303.83}, {'time': 1529416800, 'summary': 'Mostly Cloudy', 'icon': 'partly-cloudy-day', 'precipIntensity': 0, 'precipProbability': 0, 'temperature': 79.77, 'apparentTemperature': 82.02, 'dewPoint': 66.83, 'humidity': 0.65, 'pressure': 1008.37, 'windSpeed': 10.09, 'windGust': 17.83, 'windBearing': 341, 'cloudCover': 0.77, 'uvIndex': 3, 'visibility': 10, 'ozone': 304.2}, {'time': 1529420400, 'summary': 'Mostly Cloudy', 'icon': 'partly-cloudy-day', 'precipIntensity': 0, 'precipProbability': 0, 'temperature': 81.16, 'apparentTemperature': 83.16, 'dewPoint': 65.56, 'humidity': 0.59, 'pressure': 1008.83, 'windSpeed': 10.14, 'windGust': 16.37, 'windBearing': 352, 'cloudCover': 0.68, 'uvIndex': 5, 'visibility': 10, 'ozone': 304.47}, {'time': 1529424000, 'summary': 'Mostly Cloudy', 'icon': 'partly-cloudy-day', 'precipIntensity': 0, 'precipProbability': 0, 'temperature': 82.78, 'apparentTemperature': 84.02, 'dewPoint': 63.39, 'humidity': 0.52, 'pressure': 1009.19, 'windSpeed': 9.97, 'windGust': 15.44, 'windBearing': 357, 'cloudCover': 0.61, 'uvIndex': 7, 'visibility': 10, 'ozone': 305.05}, {'time': 1529427600, 'summary': 'Partly Cloudy', 'icon': 'partly-cloudy-day', 'precipIntensity': 0, 'precipProbability': 0, 'temperature': 84.33, 'apparentTemperature': 84.56, 'dewPoint': 60.78, 'humidity': 0.45, 'pressure': 1009.3, 'windSpeed': 9.81, 'windGust': 14.82, 'windBearing': 355, 'cloudCover': 0.3, 'uvIndex': 9, 'visibility': 10, 'ozone': 305.49}, {'time': 1529431200, 'summary': 'Partly Cloudy', 'icon': 'partly-cloudy-day', 'precipIntensity': 0, 'precipProbability': 0, 'temperature': 85.68, 'apparentTemperature': 85.68, 'dewPoint': 58.47, 'humidity': 0.4, 'pressure': 1009.3, 'windSpeed': 9.67, 'windGust': 14.23, 'windBearing': 354, 'cloudCover': 0.31, 'uvIndex': 8, 'visibility': 10, 'ozone': 306.19}, {'time': 1529434800, 'summary': 'Clear', 'icon': 'clear-day', 'precipIntensity': 0, 'precipProbability': 0, 'temperature': 86.74, 'apparentTemperature': 86.74, 'dewPoint': 56.75, 'humidity': 0.36, 'pressure': 1009.13, 'windSpeed': 9.49, 'windGust': 13.56, 'windBearing': 354, 'cloudCover': 0.18, 'uvIndex': 6, 'visibility': 10, 'ozone': 307.17}, {'time': 1529438400, 'summary': 'Clear', 'icon': 'clear-day', 'precipIntensity': 0, 'precipProbability': 0, 'temperature': 87.05, 'apparentTemperature': 87.05, 'dewPoint': 55.37, 'humidity': 0.34, 'pressure': 1008.89, 'windSpeed': 9.21, 'windGust': 12.88, 'windBearing': 353, 'cloudCover': 0.13, 'uvIndex': 4, 'visibility': 10, 'ozone': 308.35}, {'time': 1529442000, 'summary': 'Clear', 'icon': 'clear-day', 'precipIntensity': 0, 'precipProbability': 0, 'temperature': 86.52, 'apparentTemperature': 86.52, 'dewPoint': 54.24, 'humidity': 0.33, 'pressure': 1008.84, 'windSpeed': 8.95, 'windGust': 12.4, 'windBearing': 352, 'cloudCover': 0, 'uvIndex': 2, 'visibility': 10, 'ozone': 309.36}, {'time': 1529445600, 'summary': 'Clear', 'icon': 'clear-day', 'precipIntensity': 0, 'precipProbability': 0, 'temperature': 85.44, 'apparentTemperature': 85.44, 'dewPoint': 53.22, 'humidity': 0.33, 'pressure': 1009.15, 'windSpeed': 8.7, 'windGust': 12.07, 'windBearing': 353, 'cloudCover': 0, 'uvIndex': 1, 'visibility': 10, 'ozone': 310.06}, {'time': 1529449200, 'summary': 'Clear', 'icon': 'clear-day', 'precipIntensity': 0, 'precipProbability': 0, 'temperature': 83.8, 'apparentTemperature': 83.8, 'dewPoint': 52.43, 'humidity': 0.34, 'pressure': 1009.75, 'windSpeed': 8.4, 'windGust': 11.92, 'windBearing': 357, 'cloudCover': 0, 'uvIndex': 1, 'visibility': 10, 'ozone': 310.64}, {'time': 1529452800, 'summary': 'Clear', 'icon': 'clear-day', 'precipIntensity': 0, 'precipProbability': 0, 'temperature': 81.71, 'apparentTemperature': 81.71, 'dewPoint': 52.04, 'humidity': 0.36, 'pressure': 1010.41, 'windSpeed': 7.91, 'windGust': 12.07, 'windBearing': 4, 'cloudCover': 0.01, 'uvIndex': 0, 'visibility': 10, 'ozone': 311.3}, {'time': 1529456400, 'summary': 'Clear', 'icon': 'clear-night', 'precipIntensity': 0, 'precipProbability': 0, 'temperature': 79.45, 'apparentTemperature': 79.45, 'dewPoint': 52.18, 'humidity': 0.39, 'pressure': 1011.11, 'windSpeed': 7.72, 'windGust': 12.69, 'windBearing': 14, 'cloudCover': 0, 'uvIndex': 0, 'visibility': 10, 'ozone': 312.32}, {'time': 1529460000, 'summary': 'Clear', 'icon': 'clear-night', 'precipIntensity': 0, 'precipProbability': 0, 'temperature': 77.42, 'apparentTemperature': 77.42, 'dewPoint': 52.64, 'humidity': 0.42, 'pressure': 1011.79, 'windSpeed': 7.58, 'windGust': 13.68, 'windBearing': 22, 'cloudCover': 0, 'uvIndex': 0, 'visibility': 10, 'ozone': 313.57}, {'time': 1529463600, 'summary': 'Clear', 'icon': 'clear-night', 'precipIntensity': 0, 'precipProbability': 0, 'temperature': 75.63, 'apparentTemperature': 75.63, 'dewPoint': 52.99, 'humidity': 0.45, 'pressure': 1012.25, 'windSpeed': 7.35, 'windGust': 14.54, 'windBearing': 26, 'cloudCover': 0, 'uvIndex': 0, 'visibility': 10, 'ozone': 314}, {'time': 1529467200, 'summary': 'Clear', 'icon': 'clear-night', 'precipIntensity': 0, 'precipProbability': 0, 'temperature': 74.13, 'apparentTemperature': 74.13, 'dewPoint': 53.09, 'humidity': 0.48, 'pressure': 1012.53, 'windSpeed': 6.91, 'windGust': 15.06, 'windBearing': 28, 'cloudCover': 0.08, 'uvIndex': 0, 'visibility': 10, 'ozone': 313.37}, {'time': 1529470800, 'summary': 'Clear', 'icon': 'clear-night', 'precipIntensity': 0, 'precipProbability': 0, 'temperature': 72.73, 'apparentTemperature': 72.73, 'dewPoint': 53.1, 'humidity': 0.5, 'pressure': 1012.62, 'windSpeed': 6.42, 'windGust': 15.4, 'windBearing': 30, 'cloudCover': 0.14, 'uvIndex': 0, 'visibility': 10, 'ozone': 311.9}, {'time': 1529474400, 'summary': 'Clear', 'icon': 'clear-night', 'precipIntensity': 0, 'precipProbability': 0, 'temperature': 71.47, 'apparentTemperature': 71.47, 'dewPoint': 52.95, 'humidity': 0.52, 'pressure': 1012.65, 'windSpeed': 6.16, 'windGust': 15.5, 'windBearing': 38, 'cloudCover': 0.21, 'uvIndex': 0, 'visibility': 10, 'ozone': 310.47}, {'time': 1529478000, 'summary': 'Clear', 'icon': 'clear-night', 'precipIntensity': 0, 'precipProbability': 0, 'temperature': 70.26, 'apparentTemperature': 70.26, 'dewPoint': 52.45, 'humidity': 0.53, 'pressure': 1012.59, 'windSpeed': 6.06, 'windGust': 15.41, 'windBearing': 43, 'cloudCover': 0.19, 'uvIndex': 0, 'visibility': 10, 'ozone': 308.96}, {'time': 1529481600, 'summary': 'Clear', 'icon': 'clear-night', 'precipIntensity': 0, 'precipProbability': 0, 'temperature': 68.78, 'apparentTemperature': 68.78, 'dewPoint': 51.78, 'humidity': 0.55, 'pressure': 1012.54, 'windSpeed': 6.04, 'windGust': 15.09, 'windBearing': 48, 'cloudCover': 0.06, 'uvIndex': 0, 'visibility': 10, 'ozone': 307.35}, {'time': 1529485200, 'summary': 'Clear', 'icon': 'clear-night', 'precipIntensity': 0, 'precipProbability': 0, 'temperature': 67.68, 'apparentTemperature': 67.68, 'dewPoint': 51.2, 'humidity': 0.56, 'pressure': 1012.62, 'windSpeed': 6.02, 'windGust': 14.47, 'windBearing': 50, 'cloudCover': 0.12, 'uvIndex': 0, 'visibility': 10, 'ozone': 306.37}, {'time': 1529488800, 'summary': 'Clear', 'icon': 'clear-day', 'precipIntensity': 0, 'precipProbability': 0, 'temperature': 67.25, 'apparentTemperature': 67.25, 'dewPoint': 50.69, 'humidity': 0.55, 'pressure': 1012.77, 'windSpeed': 5.93, 'windGust': 13.47, 'windBearing': 53, 'cloudCover': 0.11, 'uvIndex': 0, 'visibility': 10, 'ozone': 306.31}, {'time': 1529492400, 'summary': 'Clear', 'icon': 'clear-day', 'precipIntensity': 0, 'precipProbability': 0, 'temperature': 68.42, 'apparentTemperature': 68.42, 'dewPoint': 50.32, 'humidity': 0.52, 'pressure': 1013.01, 'windSpeed': 5.86, 'windGust': 12.14, 'windBearing': 55, 'cloudCover': 0.1, 'uvIndex': 1, 'visibility': 10, 'ozone': 306.79}, {'time': 1529496000, 'summary': 'Clear', 'icon': 'clear-day', 'precipIntensity': 0, 'precipProbability': 0, 'temperature': 70.04, 'apparentTemperature': 70.04, 'dewPoint': 50.46, 'humidity': 0.5, 'pressure': 1013.13, 'windSpeed': 5.81, 'windGust': 10.65, 'windBearing': 65, 'cloudCover': 0.13, 'uvIndex': 1, 'visibility': 10, 'ozone': 307.16}, {'time': 1529499600, 'summary': 'Clear', 'icon': 'clear-day', 'precipIntensity': 0, 'precipProbability': 0, 'temperature': 72.15, 'apparentTemperature': 72.15, 'dewPoint': 51.53, 'humidity': 0.48, 'pressure': 1013.08, 'windSpeed': 5.47, 'windGust': 8.79, 'windBearing': 83, 'cloudCover': 0.2, 'uvIndex': 2, 'visibility': 10, 'ozone': 307.34}, {'time': 1529503200, 'summary': 'Clear', 'icon': 'clear-day', 'precipIntensity': 0, 'precipProbability': 0, 'temperature': 74.15, 'apparentTemperature': 74.15, 'dewPoint': 53.12, 'humidity': 0.48, 'pressure': 1012.75, 'windSpeed': 5.01, 'windGust': 6.8, 'windBearing': 107, 'cloudCover': 0.24, 'uvIndex': 4, 'visibility': 10, 'ozone': 307.42}, {'time': 1529506800, 'summary': 'Partly Cloudy', 'icon': 'partly-cloudy-day', 'precipIntensity': 0, 'precipProbability': 0, 'temperature': 76.44, 'apparentTemperature': 76.44, 'dewPoint': 54.31, 'humidity': 0.46, 'pressure': 1012.48, 'windSpeed': 4.8, 'windGust': 5.53, 'windBearing': 131, 'cloudCover': 0.42, 'uvIndex': 6, 'visibility': 10, 'ozone': 307.28}, {'time': 1529510400, 'summary': 'Partly Cloudy', 'icon': 'partly-cloudy-day', 'precipIntensity': 0, 'precipProbability': 0, 'temperature': 77.93, 'apparentTemperature': 77.93, 'dewPoint': 54.73, 'humidity': 0.45, 'pressure': 1012.06, 'windSpeed': 5.17, 'windGust': 5.53, 'windBearing': 152, 'cloudCover': 0.31, 'uvIndex': 8, 'visibility': 10, 'ozone': 306.66}, {'time': 1529514000, 'summary': 'Partly Cloudy', 'icon': 'partly-cloudy-day', 'precipIntensity': 0, 'precipProbability': 0, 'temperature': 79.15, 'apparentTemperature': 79.15, 'dewPoint': 54.73, 'humidity': 0.43, 'pressure': 1011.62, 'windSpeed': 5.73, 'windGust': 6.33, 'windBearing': 171, 'cloudCover': 0.33, 'uvIndex': 9, 'visibility': 10, 'ozone': 305.72}, {'time': 1529517600, 'summary': 'Partly Cloudy', 'icon': 'partly-cloudy-day', 'precipIntensity': 0, 'precipProbability': 0, 'temperature': 79.91, 'apparentTemperature': 79.91, 'dewPoint': 54.75, 'humidity': 0.42, 'pressure': 1011.17, 'windSpeed': 6.37, 'windGust': 7.12, 'windBearing': 182, 'cloudCover': 0.32, 'uvIndex': 8, 'visibility': 10, 'ozone': 305.42}]}, 'daily': {'summary': 'Light rain today through Saturday, with high temperatures falling to 76°F on Saturday.', 'icon': 'rain', 'data': [{'time': 1529294400, 'summary': 'Light rain overnight.', 'icon': 'rain', 'sunriseTime': 1529313939, 'sunsetTime': 1529368261, 'moonPhase': 0.18, 'precipIntensity': 0.004, 'precipIntensityMax': 0.0402, 'precipIntensityMaxTime': 1529377200, 'precipProbability': 0.28, 'precipType': 'rain', 'temperatureHigh': 90.45, 'temperatureHighTime': 1529352000, 'temperatureLow': 74.72, 'temperatureLowTime': 1529402400, 'apparentTemperatureHigh': 94.07, 'apparentTemperatureHighTime': 1529348400, 'apparentTemperatureLow': 75.81, 'apparentTemperatureLowTime': 1529402400, 'dewPoint': 66.64, 'humidity': 0.66, 'pressure': 1014.05, 'windSpeed': 7.41, 'windGust': 19.1, 'windGustTime': 1529377200, 'windBearing': 212, 'cloudCover': 0.29, 'uvIndex': 10, 'uvIndexTime': 1529337600, 'visibility': 10, 'ozone': 302.9, 'temperatureMin': 69.54, 'temperatureMinTime': 1529316000, 'temperatureMax': 90.45, 'temperatureMaxTime': 1529352000, 'apparentTemperatureMin': 70.15, 'apparentTemperatureMinTime': 1529316000, 'apparentTemperatureMax': 94.07, 'apparentTemperatureMaxTime': 1529348400}, {'time': 1529380800, 'summary': 'Mostly cloudy until afternoon.', 'icon': 'partly-cloudy-day', 'sunriseTime': 1529400347, 'sunsetTime': 1529454678, 'moonPhase': 0.22, 'precipIntensity': 0.0042, 'precipIntensityMax': 0.0334, 'precipIntensityMaxTime': 1529380800, 'precipProbability': 0.37, 'precipType': 'rain', 'temperatureHigh': 87.05, 'temperatureHighTime': 1529438400, 'temperatureLow': 67.25, 'temperatureLowTime': 1529488800, 'apparentTemperatureHigh': 87.05, 'apparentTemperatureHighTime': 1529438400, 'apparentTemperatureLow': 67.25, 'apparentTemperatureLowTime': 1529488800, 'dewPoint': 62.22, 'humidity': 0.57, 'pressure': 1008.61, 'windSpeed': 6.29, 'windGust': 26.93, 'windGustTime': 1529398800, 'windBearing': 329, 'cloudCover': 0.48, 'uvIndex': 9, 'uvIndexTime': 1529427600, 'visibility': 10, 'ozone': 304.77, 'temperatureMin': 74.72, 'temperatureMinTime': 1529402400, 'temperatureMax': 87.05, 'temperatureMaxTime': 1529438400, 'apparentTemperatureMin': 75.63, 'apparentTemperatureMinTime': 1529463600, 'apparentTemperatureMax': 87.05, 'apparentTemperatureMaxTime': 1529438400}, {'time': 1529467200, 'summary': 'Rain overnight.', 'icon': 'rain', 'sunriseTime': 1529486757, 'sunsetTime': 1529541092, 'moonPhase': 0.26, 'precipIntensity': 0.0025, 'precipIntensityMax': 0.016, 'precipIntensityMaxTime': 1529550000, 'precipProbability': 0.29, 'precipType': 'rain', 'temperatureHigh': 80.75, 'temperatureHighTime': 1529521200, 'temperatureLow': 65.65, 'temperatureLowTime': 1529578800, 'apparentTemperatureHigh': 80.75, 'apparentTemperatureHighTime': 1529521200, 'apparentTemperatureLow': 65.83, 'apparentTemperatureLowTime': 1529578800, 'dewPoint': 54.64, 'humidity': 0.52, 'pressure': 1011.22, 'windSpeed': 3.19, 'windGust': 15.5, 'windGustTime': 1529474400, 'windBearing': 130, 'cloudCover': 0.38, 'uvIndex': 9, 'uvIndexTime': 1529514000, 'visibility': 10, 'ozone': 308.9, 'temperatureMin': 67.25, 'temperatureMinTime': 1529488800, 'temperatureMax': 80.75, 'temperatureMaxTime': 1529521200, 'apparentTemperatureMin': 67.25, 'apparentTemperatureMinTime': 1529488800, 'apparentTemperatureMax': 80.75, 'apparentTemperatureMaxTime': 1529521200}, {'time': 1529553600, 'summary': 'Rain in the morning.', 'icon': 'rain', 'sunriseTime': 1529573169, 'sunsetTime': 1529627505, 'moonPhase': 0.29, 'precipIntensity': 0.0216, 'precipIntensityMax': 0.1065, 'precipIntensityMaxTime': 1529571600, 'precipProbability': 0.77, 'precipType': 'rain', 'temperatureHigh': 84.22, 'temperatureHighTime': 1529611200, 'temperatureLow': 67.02, 'temperatureLowTime': 1529661600, 'apparentTemperatureHigh': 84.22, 'apparentTemperatureHighTime': 1529611200, 'apparentTemperatureLow': 67.04, 'apparentTemperatureLowTime': 1529661600, 'dewPoint': 56.35, 'humidity': 0.58, 'pressure': 1010.07, 'windSpeed': 3.42, 'windGust': 16.03, 'windGustTime': 1529586000, 'windBearing': 30, 'cloudCover': 0.53, 'uvIndex': 8, 'uvIndexTime': 1529600400, 'visibility': 10, 'ozone': 322.52, 'temperatureMin': 65.65, 'temperatureMinTime': 1529578800, 'temperatureMax': 84.22, 'temperatureMaxTime': 1529611200, 'apparentTemperatureMin': 65.83, 'apparentTemperatureMinTime': 1529578800, 'apparentTemperatureMax': 84.22, 'apparentTemperatureMaxTime': 1529611200}, {'time': 1529640000, 'summary': 'Mostly cloudy starting in the afternoon.', 'icon': 'partly-cloudy-night', 'sunriseTime': 1529659582, 'sunsetTime': 1529713916, 'moonPhase': 0.33, 'precipIntensity': 0.0002, 'precipIntensityMax': 0.001, 'precipIntensityMaxTime': 1529658000, 'precipProbability': 0.04, 'precipType': 'rain', 'temperatureHigh': 78.75, 'temperatureHighTime': 1529690400, 'temperatureLow': 66.26, 'temperatureLowTime': 1529748000, 'apparentTemperatureHigh': 78.75, 'apparentTemperatureHighTime': 1529690400, 'apparentTemperatureLow': 66.26, 'apparentTemperatureLowTime': 1529748000, 'dewPoint': 57.29, 'humidity': 0.6, 'pressure': 1017.07, 'windSpeed': 7.29, 'windGust': 18.49, 'windGustTime': 1529715600, 'windBearing': 140, 'cloudCover': 0.32, 'uvIndex': 9, 'uvIndexTime': 1529683200, 'visibility': 10, 'ozone': 323.14, 'temperatureMin': 67.02, 'temperatureMinTime': 1529661600, 'temperatureMax': 78.75, 'temperatureMaxTime': 1529690400, 'apparentTemperatureMin': 67.04, 'apparentTemperatureMinTime': 1529661600, 'apparentTemperatureMax': 78.75, 'apparentTemperatureMaxTime': 1529690400}, {'time': 1529726400, 'summary': 'Mostly cloudy throughout the day.', 'icon': 'partly-cloudy-day', 'sunriseTime': 1529745998, 'sunsetTime': 1529800325, 'moonPhase': 0.36, 'precipIntensity': 0.0085, 'precipIntensityMax': 0.0426, 'precipIntensityMaxTime': 1529766000, 'precipProbability': 0.52, 'precipType': 'rain', 'temperatureHigh': 75.6, 'temperatureHighTime': 1529784000, 'temperatureLow': 69.67, 'temperatureLowTime': 1529827200, 'apparentTemperatureHigh': 76.05, 'apparentTemperatureHighTime': 1529784000, 'apparentTemperatureLow': 70.64, 'apparentTemperatureLowTime': 1529823600, 'dewPoint': 61.58, 'humidity': 0.72, 'pressure': 1013.71, 'windSpeed': 9.77, 'windGust': 22.97, 'windGustTime': 1529805600, 'windBearing': 129, 'cloudCover': 0.8, 'uvIndex': 6, 'uvIndexTime': 1529769600, 'visibility': 10, 'ozone': 311.19, 'temperatureMin': 66.26, 'temperatureMinTime': 1529748000, 'temperatureMax': 75.6, 'temperatureMaxTime': 1529784000, 'apparentTemperatureMin': 66.26, 'apparentTemperatureMinTime': 1529748000, 'apparentTemperatureMax': 76.05, 'apparentTemperatureMaxTime': 1529784000}, {'time': 1529812800, 'summary': 'Mostly cloudy until evening.', 'icon': 'partly-cloudy-day', 'sunriseTime': 1529832415, 'sunsetTime': 1529886732, 'moonPhase': 0.39, 'precipIntensity': 0.0034, 'precipIntensityMax': 0.0245, 'precipIntensityMaxTime': 1529830800, 'precipProbability': 0.37, 'precipType': 'rain', 'temperatureHigh': 86.16, 'temperatureHighTime': 1529874000, 'temperatureLow': 67.35, 'temperatureLowTime': 1529920800, 'apparentTemperatureHigh': 87.09, 'apparentTemperatureHighTime': 1529870400, 'apparentTemperatureLow': 67.52, 'apparentTemperatureLowTime': 1529920800, 'dewPoint': 65.5, 'humidity': 0.69, 'pressure': 1009.08, 'windSpeed': 5.75, 'windGust': 23.69, 'windGustTime': 1529863200, 'windBearing': 265, 'cloudCover': 0.63, 'uvIndex': 6, 'uvIndexTime': 1529856000, 'visibility': 10, 'ozone': 313.17, 'temperatureMin': 69.67, 'temperatureMinTime': 1529827200, 'temperatureMax': 86.16, 'temperatureMaxTime': 1529874000, 'apparentTemperatureMin': 70.64, 'apparentTemperatureMinTime': 1529823600, 'apparentTemperatureMax': 87.09, 'apparentTemperatureMaxTime': 1529870400}, {'time': 1529899200, 'summary': 'Overcast throughout the day.', 'icon': 'cloudy', 'sunriseTime': 1529918834, 'sunsetTime': 1529973137, 'moonPhase': 0.42, 'precipIntensity': 0.0044, 'precipIntensityMax': 0.009, 'precipIntensityMaxTime': 1529917200, 'precipProbability': 0.59, 'precipType': 'rain', 'temperatureHigh': 76.45, 'temperatureHighTime': 1529949600, 'temperatureLow': 59.14, 'temperatureLowTime': 1530003600, 'apparentTemperatureHigh': 76.62, 'apparentTemperatureHighTime': 1529949600, 'apparentTemperatureLow': 59.14, 'apparentTemperatureLowTime': 1530003600, 'dewPoint': 60.47, 'humidity': 0.68, 'pressure': 1015.31, 'windSpeed': 6.19, 'windGust': 18.69, 'windGustTime': 1529982000, 'windBearing': 14, 'cloudCover': 0.87, 'uvIndex': 6, 'uvIndexTime': 1529946000, 'visibility': 10, 'ozone': 320.73, 'temperatureMin': 66.68, 'temperatureMinTime': 1529982000, 'temperatureMax': 76.45, 'temperatureMaxTime': 1529949600, 'apparentTemperatureMin': 66.68, 'apparentTemperatureMinTime': 1529982000, 'apparentTemperatureMax': 76.62, 'apparentTemperatureMaxTime': 1529949600}]}, 'alerts': [{'title': 'Rip Current Statement', 'regions': ['Kings (Brooklyn)', 'Southeast Suffolk', 'Southern Nassau', 'Southern Queens', 'Southwest Suffolk'], 'severity': 'watch', 'time': 1529316000, 'expires': 1529370000, 'description': '...HIGH RIP CURRENT RISK IN EFFECT THROUGH THIS EVENING... The National Weather Service in New York NY has issued a High Rip Current Risk, which is in effect through this evening. * LOCATIONS...The ocean beaches from New York City to Montauk. * TIMING...Today and this evening. * SURF AND RIP CURRENT RISK...Moderate before 3 PM, then HIGH from 3 PM into this evening.\\n', 'uri': 'https://alerts.weather.gov/cap/wwacapget.php?x=NY125AAA927B80.RipCurrentStatement.125AAAA09FD0NY.OKXCFWOKX.6586636f06c10422d741677a90170dac'}, {'title': 'Air Quality Alert', 'regions': ['Bronx', 'Kings (Brooklyn)', 'New York (Manhattan)', 'Northeast Suffolk', 'Northern Nassau', 'Northern Queens', 'Northern Westchester', 'Northwest Suffolk', 'Orange', 'Putnam', 'Richmond (Staten Is.)', 'Rockland', 'Southeast Suffolk', 'Southern Nassau', 'Southern Queens', 'Southern Westchester', 'Southwest Suffolk'], 'severity': 'advisory', 'time': 1529334000, 'expires': 1529373600, 'description': '...AIR QUALITY ALERT IN EFFECT UNTIL 11 PM EDT THIS EVENING... The New York State Department of Environmental Conservation has issued an Air Quality Health Advisory for the following counties... Richmond...Kings...Queens...New York...Bronx...Westchester... Rockland...Nassau...Suffolk...Orange...and Putnam in effect until 11 PM EDT this evening. Air quality levels in outdoor air are predicted to be greater than an Air Quality Index value of 100 for the pollutant of Ground Level Ozone . The Air Quality Index...or AQI...was created as an easy way to correlate levels of different pollutants to one scale. The higher the AQI value...the greater the health concern. When pollution levels are elevated...the New York State Department of Health recommends that individuals consider limiting strenuous outdoor physical activity to reduce the risk of adverse health effects. People who may be especially sensitive to the effects of elevated levels of pollutants include the very young...and those with preexisting respiratory problems such as asthma or heart disease. Those with symptoms should consider consulting their personal physician. A toll free air quality hotline has been established so New York residents can stay informed on the air quality situation. The toll free number is 1 800 5 3 5, 1 3 4 5.\\n', 'uri': 'https://alerts.weather.gov/cap/wwacapget.php?x=NY125AAA938AFC.AirQualityAlert.125AAAA0C6E0NY.OKXAQAOKX.2686aab752d217e00039477a8f89fe2f'}], 'flags': {'sources': ['nearest-precip', 'nwspa', 'cmc', 'gfs', 'hrrr', 'icon', 'isd', 'madis', 'nam', 'sref', 'darksky'], 'nearest-station': 3.26, 'units': 'us'}, 'offset': -4}\n"
     ]
    }
   ],
   "source": [
    "#print(data)"
   ]
  },
  {
   "cell_type": "code",
   "execution_count": 22,
   "metadata": {},
   "outputs": [
    {
     "name": "stdout",
     "output_type": "stream",
     "text": [
      "Right now it is 89.55 degrees out and partly cloudy. Today will be 93.73 with a high of 76.45 and a low of 59.14 . Take your coat, there could be some showers.\n"
     ]
    }
   ],
   "source": [
    "temperature = data['currently']['temperature']\n",
    "summary = data['currently']['summary']\n",
    "\n",
    "if data['currently']['apparentTemperature'] > 90:\n",
    "    temp_feeling = \"hot\"\n",
    "elif data['currently']['apparentTemperature'] > 80:\n",
    "    temp_feeling = \"warm\"\n",
    "elif data['currently']['apparentTemperature'] > 60:\n",
    "    temp_feeling = \"moderate\"\n",
    "else:\n",
    "    temp_feeling = \"cold\"\n",
    "\n",
    "today = data['daily']['data']\n",
    "\n",
    "for feature in today:\n",
    "    high_temp = feature['temperatureHigh']\n",
    "    low_temp = feature['temperatureLow']\n",
    "    if feature['precipProbability'] > 0.8:\n",
    "        rain_warning = \"It will probably rain, pick your umbrella!\"\n",
    "    elif feature['precipProbability'] > 0.5:\n",
    "        rain_warning = \"Take your coat, there could be some showers\"\n",
    "    else:\n",
    "        rain_warning = \"It seems today it will not rain\"\n",
    "        \n",
    "#print(\"Right now it is\", temperature, \"degrees out and\", summary.lower() + \". Today will be\", temp_feeling, \"with a high of\", high_temp, \"and a low of\", low_temp, \".\", rain_warning + \".\")\n",
    "\n",
    "\n"
   ]
  },
  {
   "cell_type": "code",
   "execution_count": 27,
   "metadata": {},
   "outputs": [
    {
     "name": "stdout",
     "output_type": "stream",
     "text": [
      "June 18, 2018\n"
     ]
    }
   ],
   "source": [
    "# Reference: http://strftime.org/\n",
    "import datetime\n",
    "right_now = datetime.datetime.now()\n",
    "date_string = right_now.strftime(\"%B %d, %Y\")\n",
    "print(date_string)"
   ]
  },
  {
   "cell_type": "code",
   "execution_count": 60,
   "metadata": {},
   "outputs": [],
   "source": [
    "message = \"Right now it is {0}, degrees out and, {1}. Today will be {2} with a high of {3} and a low of {4}. {5} .\".format(temperature, summary, temp_feeling, high_temp, low_temp, rain_warning)\n",
    "\n",
    "\n"
   ]
  },
  {
   "cell_type": "code",
   "execution_count": 61,
   "metadata": {},
   "outputs": [
    {
     "data": {
      "text/plain": [
       "'{\\n  \"id\": \"<20180618203736.1.56D9B4A79EFBC709@sandbox0e4e0f5844d146f1b87ef9105c2c7793.mailgun.org>\",\\n  \"message\": \"Queued. Thank you.\"\\n}'"
      ]
     },
     "execution_count": 61,
     "metadata": {},
     "output_type": "execute_result"
    }
   ],
   "source": [
    "# API-KEY, domain and e-mails removed to submit the assignment\n",
    "\n",
    "response = requests.post(\n",
    "        \"https://api.mailgun.net/v3/YOUR_DOMAIN_NAME/messages\",\n",
    "        auth=(\"api\", \"YOUR_API_KEY\"),\n",
    "        data={\"from\": \"xxxxxxx\",\n",
    "              \"to\": \"xxxxx.xxxxxx@xxxxxx.edu\",\n",
    "              \"subject\": \"8AM Weather forecast: {}\".format(date_string),\n",
    "              \"html\": message}) \n",
    "response.text"
   ]
  },
  {
   "cell_type": "code",
   "execution_count": null,
   "metadata": {},
   "outputs": [],
   "source": []
  },
  {
   "cell_type": "code",
   "execution_count": null,
   "metadata": {},
   "outputs": [],
   "source": []
  },
  {
   "cell_type": "code",
   "execution_count": null,
   "metadata": {},
   "outputs": [],
   "source": [
    "# Ubuntu server\n",
    "# inside your server to change the timezone of it, you should type:\n",
    "# tzselect\n",
    "# to set local time for NYX\n",
    "# sudo timedatectl set-timezone America/New_York\n"
   ]
  },
  {
   "cell_type": "code",
   "execution_count": null,
   "metadata": {},
   "outputs": [],
   "source": [
    "# Upload the file\n",
    "# scp -i ~/.ssh/foundations_key ~/Downloads/email-weather.py root@1.2.3.4:\n",
    "\n",
    "# Connect to the server\n",
    "# ssh -i ~/.ssh/foundations_key root@1.2.3.4\n",
    "\n",
    "# Open crontab\n",
    "# crontab -e\n",
    "\n",
    "# Go down and write this\n",
    "# 0 */6 * * * python3 wapo-briefing.py\n",
    "\n",
    "# Ctrl+X and save it"
   ]
  }
 ],
 "metadata": {
  "kernelspec": {
   "display_name": "Python 3",
   "language": "python",
   "name": "python3"
  },
  "language_info": {
   "codemirror_mode": {
    "name": "ipython",
    "version": 3
   },
   "file_extension": ".py",
   "mimetype": "text/x-python",
   "name": "python",
   "nbconvert_exporter": "python",
   "pygments_lexer": "ipython3",
   "version": "3.6.5"
  }
 },
 "nbformat": 4,
 "nbformat_minor": 2
}
