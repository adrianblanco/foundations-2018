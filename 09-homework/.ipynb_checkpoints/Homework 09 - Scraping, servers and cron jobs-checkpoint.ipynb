{
 "cells": [
  {
   "cell_type": "code",
   "execution_count": 1,
   "metadata": {},
   "outputs": [],
   "source": [
    "import requests\n",
    "from bs4 import BeautifulSoup\n",
    "import pandas as pd"
   ]
  },
  {
   "cell_type": "code",
   "execution_count": 2,
   "metadata": {},
   "outputs": [],
   "source": [
    "response = requests.get('https://www.washingtonpost.com/')\n",
    "doc = BeautifulSoup(response.text, 'html.parser')"
   ]
  },
  {
   "cell_type": "code",
   "execution_count": 3,
   "metadata": {},
   "outputs": [
    {
     "data": {
      "text/plain": [
       "31"
      ]
     },
     "execution_count": 3,
     "metadata": {},
     "output_type": "execute_result"
    }
   ],
   "source": [
    "stories = doc.find_all(class_='pb-f-homepage-story')\n",
    "len(stories)"
   ]
  },
  {
   "cell_type": "code",
   "execution_count": 4,
   "metadata": {},
   "outputs": [
    {
     "name": "stdout",
     "output_type": "stream",
     "text": [
      "<div class=\"moat-trackable pb-f-theme-normal pb-f-dehydrate-false pb-f-async-false full pb-feature pb-layout-item pb-f-homepage-story\" data-chain-name=\"hp-top-table-main\" data-feature-id=\"homepage/story\" data-feature-name=\"gopimmigration-1130am\" data-pb-fingerprint=\"0fLyijEwVq6\" id=\"f0SXsWhtTRxxVq\" moat-id=\"homepage/story\">\n",
      " <div class=\"border-top-off border-top-100-pct border-bottom-none border-bottom-100-pct\">\n",
      "  <div class=\"no-skin flex-item flex-stack normal-air text-align-left equalize-height-target\" data-pb-content-id=\"189d667f4a5e731413833577857bf3bf\">\n",
      "   <div class=\"headline small normal-style text-align-inherit \">\n",
      "    <a class=\"\" data-nummelded=\"\" data-pb-field=\"web_headline\" data-pb-placeholder=\"Write headline here\" data-pb-url-field=\"canonical_url\" href=\"https://www.washingtonpost.com/powerpost/gop-leaders-voice-hope-that-bill-addressing-family-separations-will-pass-thursday/2018/06/20/cc79db9a-7480-11e8-b4b7-308400242c2e_story.html\">\n",
      "     Trump, in reversal, says he will sign order to end family separations at border\n",
      "    </a>\n",
      "   </div>\n",
      "   <div class=\"blurb normal normal-style \" data-pb-field=\"summary\" data-pb-placeholder=\"Write blurb here.\">\n",
      "    For days, President Trump and his top administration officials were unwilling to unilaterally reverse the separation policy. But images of young children housed in metal cages set off an international outcry that reached the White House.\n",
      "   </div>\n",
      "   <ul class=\"sigline normal\">\n",
      "    <li class=\"byline\">\n",
      "     By\n",
      "     <span class=\"author vcard\">\n",
      "      <a href=\"https://www.washingtonpost.com/people/john-wagner/\">\n",
      "       John Wagner\n",
      "      </a>\n",
      "     </span>\n",
      "     ,\n",
      "     <span class=\"author vcard\">\n",
      "      <a href=\"https://www.washingtonpost.com/people/nick-miroff/\">\n",
      "       Nick Miroff\n",
      "      </a>\n",
      "     </span>\n",
      "     and\n",
      "     <span class=\"author vcard\">\n",
      "      <a href=\"https://www.washingtonpost.com/people/mike-debonis/\">\n",
      "       Mike DeBonis\n",
      "      </a>\n",
      "     </span>\n",
      "    </li>\n",
      "    <li class=\"timestamp time\" data-timestamp=\"1529517600000\" data-timestamp-duration=\"3\">\n",
      "     1 hour ago\n",
      "    </li>\n",
      "   </ul>\n",
      "  </div>\n",
      " </div>\n",
      "</div>\n",
      "\n"
     ]
    }
   ],
   "source": [
    "print(stories[0].prettify())"
   ]
  },
  {
   "cell_type": "code",
   "execution_count": 11,
   "metadata": {},
   "outputs": [],
   "source": [
    "main_page = []\n",
    "\n",
    "for story in stories:\n",
    "    \n",
    "    articles = {}\n",
    "     \n",
    "    try:\n",
    "        \n",
    "        #print(story.find(class_='headline').text)\n",
    "        articles['headline'] = story.find(class_='headline').text\n",
    "        \n",
    "        articles['summary'] = story.find(class_='blurb').text\n",
    "        #print(story.find(class_='blurb').text)\n",
    "        \n",
    "    except:\n",
    "        \n",
    "        continue\n",
    "        #print(\"N/A\")\n",
    "    \n",
    "    try:\n",
    "        \n",
    "        articles['author'] = story.find(class_='byline').text\n",
    "        #print(story.find(class_='byline').text)\n",
    "    \n",
    "    except:\n",
    "        \n",
    "        continue\n",
    "        #print(\"N/A\")\n",
    "        \n",
    "    try:\n",
    "        \n",
    "        #for div in doc.find_all('div', attrs={'class' : 'photo-wrapper'}):\n",
    "            #print(\"-----\",div.a.img.get('data-hi-res-src'))\n",
    "        \n",
    "        for divdata in story.find_all('div', attrs={'class' : 'photo-wrapper'}):\n",
    "            for getatag in divdata.find_all('a'):\n",
    "                articles['image'] = getatag.img\n",
    "                #print(getatag.img)\n",
    "                #print(getatag.img['src'])\n",
    "    \n",
    "    except:\n",
    "        \n",
    "        continue\n",
    "        #print(\"N/A\")\n",
    "    \n",
    "    main_page.append(articles)\n",
    "    \n",
    "#first_linkfirst_li  = soup_doc.find('a')\n",
    "#get_url = first_link['href']\n",
    "#//*[@id=\"f0JLzeN9LWjtVq\"]/div/div/div/div[1]/div/div[1]/a/img\n",
    "#https://www.washingtonpost.com/rf/image_480x320/2010-2019/WashingtonPost/2018/06/15/Interactivity/Images/crop_9020180611_Chicago_IdaBWellsMonument_011.JPG?t=20170517a"
   ]
  },
  {
   "cell_type": "code",
   "execution_count": null,
   "metadata": {},
   "outputs": [],
   "source": [
    "# print(main_page)"
   ]
  },
  {
   "cell_type": "code",
   "execution_count": 12,
   "metadata": {},
   "outputs": [],
   "source": [
    "df = pd.DataFrame(main_page)"
   ]
  },
  {
   "cell_type": "code",
   "execution_count": 13,
   "metadata": {},
   "outputs": [
    {
     "data": {
      "text/html": [
       "<div>\n",
       "<style scoped>\n",
       "    .dataframe tbody tr th:only-of-type {\n",
       "        vertical-align: middle;\n",
       "    }\n",
       "\n",
       "    .dataframe tbody tr th {\n",
       "        vertical-align: top;\n",
       "    }\n",
       "\n",
       "    .dataframe thead th {\n",
       "        text-align: right;\n",
       "    }\n",
       "</style>\n",
       "<table border=\"1\" class=\"dataframe\">\n",
       "  <thead>\n",
       "    <tr style=\"text-align: right;\">\n",
       "      <th></th>\n",
       "      <th>author</th>\n",
       "      <th>headline</th>\n",
       "      <th>image</th>\n",
       "      <th>summary</th>\n",
       "    </tr>\n",
       "  </thead>\n",
       "  <tbody>\n",
       "    <tr>\n",
       "      <th>0</th>\n",
       "      <td>By John Wagner, Nick Miroff and Mike DeBonis</td>\n",
       "      <td>Trump, in reversal, says he will sign order to...</td>\n",
       "      <td>NaN</td>\n",
       "      <td>For days, President Trump and his top administ...</td>\n",
       "    </tr>\n",
       "    <tr>\n",
       "      <th>1</th>\n",
       "      <td>By Aaron Blake</td>\n",
       "      <td>Trump and Kirstjen Nielsen’s embarrassing surr...</td>\n",
       "      <td>NaN</td>\n",
       "      <td>Make no mistake: The administration just admit...</td>\n",
       "    </tr>\n",
       "    <tr>\n",
       "      <th>2</th>\n",
       "      <td>By Maria Sacchetti</td>\n",
       "      <td>Near the border, different buses take migrants...</td>\n",
       "      <td>&lt;img class=\" _3-to-2 unprocessed placeholder\" ...</td>\n",
       "      <td>Since the White House announced in May it woul...</td>\n",
       "    </tr>\n",
       "    <tr>\n",
       "      <th>3</th>\n",
       "      <td>By Felicia Sonmez</td>\n",
       "      <td>Longtime GOP strategist criticizes family sepa...</td>\n",
       "      <td>NaN</td>\n",
       "      <td>In early-morning tweets, Steve Schmidt , a voc...</td>\n",
       "    </tr>\n",
       "    <tr>\n",
       "      <th>4</th>\n",
       "      <td>By Erica Werner</td>\n",
       "      <td>Senate rejects billions in Trump spending cuts...</td>\n",
       "      <td>&lt;img class=\" _3-to-2 unprocessed placeholder\" ...</td>\n",
       "      <td>GOP Sens. Susan Collins and Richard Burr joine...</td>\n",
       "    </tr>\n",
       "  </tbody>\n",
       "</table>\n",
       "</div>"
      ],
      "text/plain": [
       "                                         author  \\\n",
       "0  By John Wagner, Nick Miroff and Mike DeBonis   \n",
       "1                                By Aaron Blake   \n",
       "2                            By Maria Sacchetti   \n",
       "3                             By Felicia Sonmez   \n",
       "4                               By Erica Werner   \n",
       "\n",
       "                                            headline  \\\n",
       "0  Trump, in reversal, says he will sign order to...   \n",
       "1  Trump and Kirstjen Nielsen’s embarrassing surr...   \n",
       "2  Near the border, different buses take migrants...   \n",
       "3  Longtime GOP strategist criticizes family sepa...   \n",
       "4  Senate rejects billions in Trump spending cuts...   \n",
       "\n",
       "                                               image  \\\n",
       "0                                                NaN   \n",
       "1                                                NaN   \n",
       "2  <img class=\" _3-to-2 unprocessed placeholder\" ...   \n",
       "3                                                NaN   \n",
       "4  <img class=\" _3-to-2 unprocessed placeholder\" ...   \n",
       "\n",
       "                                             summary  \n",
       "0  For days, President Trump and his top administ...  \n",
       "1  Make no mistake: The administration just admit...  \n",
       "2  Since the White House announced in May it woul...  \n",
       "3  In early-morning tweets, Steve Schmidt , a voc...  \n",
       "4  GOP Sens. Susan Collins and Richard Burr joine...  "
      ]
     },
     "execution_count": 13,
     "metadata": {},
     "output_type": "execute_result"
    }
   ],
   "source": [
    "df.head()"
   ]
  },
  {
   "cell_type": "code",
   "execution_count": 18,
   "metadata": {},
   "outputs": [],
   "source": [
    "message = []\n",
    "\n",
    "for item in main_page:\n",
    "    message.append(' <strong><font size=\"14\"> ' + item['headline'] + ' </font></strong> ' + '<br><i>' + item['author'] + '</i><br>' + item['summary'] + '<br>')\n",
    "    \n",
    "    \n",
    "    \n",
    "    "
   ]
  },
  {
   "cell_type": "code",
   "execution_count": null,
   "metadata": {},
   "outputs": [],
   "source": [
    "#message"
   ]
  },
  {
   "cell_type": "code",
   "execution_count": null,
   "metadata": {},
   "outputs": [],
   "source": [
    "# Save this as a CSV, and send it as an attachment to your email address every 6 hours. \n",
    "# The email headline should say something like \"Here is your 6PM briefing.\" \n",
    "# The CSV file should be timestamped with the current date and time, e.g. briefing-2018-06-18-3PM.csv"
   ]
  },
  {
   "cell_type": "code",
   "execution_count": 19,
   "metadata": {},
   "outputs": [],
   "source": [
    "# Reference: http://strftime.org/\n",
    "import datetime\n",
    "right_now = datetime.datetime.now()\n",
    "date_string = right_now.strftime(\"%Y-%m-%d-%-I%p\")\n",
    "subject_date_string = right_now.strftime(\"%-I%p\")\n",
    "#print(date_string)\n",
    "#print(subject_date_string)"
   ]
  },
  {
   "cell_type": "code",
   "execution_count": 16,
   "metadata": {},
   "outputs": [],
   "source": [
    "df.to_csv('briefing-{}.csv'.format(date_string), index=False)"
   ]
  },
  {
   "cell_type": "code",
   "execution_count": 20,
   "metadata": {},
   "outputs": [
    {
     "data": {
      "text/plain": [
       "'{\\n  \"id\": \"<20180620191307.1.9E2E74762B9B6FF2@sandbox0e4e0f5844d146f1b87ef9105c2c7793.mailgun.org>\",\\n  \"message\": \"Queued. Thank you.\"\\n}'"
      ]
     },
     "execution_count": 20,
     "metadata": {},
     "output_type": "execute_result"
    }
   ],
   "source": [
    "# Send e-mail wit mailgun\n",
    "# API-KEY, domain and e-mails removed to submit the assignment\n",
    "\n",
    "response = requests.post(\n",
    "        \"https://api.mailgun.net/v3/YOUR_DOMAIN_NAME/messages\",\n",
    "        auth=(\"api\", \"YOUR_API_KEY\"),\n",
    "        files=[(\"attachment\", open('briefing-{}.csv'.format(date_string)))],\n",
    "        data={\"from\": \"xxxxxxxx\",\n",
    "              \"to\": \"xxxxxx@xxxxxx.edu\",\n",
    "              \"subject\": \"Here is your {} briefing.\".format(subject_date_string),\n",
    "              \"html\": message}) \n",
    "response.text"
   ]
  },
  {
   "cell_type": "code",
   "execution_count": null,
   "metadata": {},
   "outputs": [],
   "source": []
  },
  {
   "cell_type": "markdown",
   "metadata": {},
   "source": [
    "### Steps followed in the server"
   ]
  },
  {
   "cell_type": "code",
   "execution_count": null,
   "metadata": {},
   "outputs": [],
   "source": [
    "# Upload the file\n",
    "# scp -i ~/.ssh/foundations_key ~/Downloads/wapo-briefing.py root@1.2.3.4:\n",
    "\n",
    "# Connect to the server\n",
    "# ssh -i ~/.ssh/foundations_key root@1.2.3.4\n",
    "\n",
    "# Open crontab\n",
    "# crontab -e\n",
    "\n",
    "# Go down and write this\n",
    "# 0 */6 * * * python3 wapo-briefing.py\n",
    "\n",
    "# Ctrl+X and save it"
   ]
  }
 ],
 "metadata": {
  "kernelspec": {
   "display_name": "Python 3",
   "language": "python",
   "name": "python3"
  },
  "language_info": {
   "codemirror_mode": {
    "name": "ipython",
    "version": 3
   },
   "file_extension": ".py",
   "mimetype": "text/x-python",
   "name": "python",
   "nbconvert_exporter": "python",
   "pygments_lexer": "ipython3",
   "version": "3.6.5"
  }
 },
 "nbformat": 4,
 "nbformat_minor": 2
}
